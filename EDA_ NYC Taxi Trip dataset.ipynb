{
 "cells": [
  {
   "cell_type": "markdown",
   "id": "1a707728",
   "metadata": {},
   "source": [
    "# Project: Building Basic predictive models over the NYC Taxi Trip dataset"
   ]
  },
  {
   "cell_type": "markdown",
   "id": "3f29abfd",
   "metadata": {},
   "source": [
    "# 1. Choose Evaluation Metrics : Mean Absolute error (MAE)"
   ]
  },
  {
   "cell_type": "markdown",
   "id": "9707de28",
   "metadata": {},
   "source": [
    "In MAE the score is measure as the average of the absoulte error values.In MAE different error are not weighted more or less, but the score increase lineraly with the increase in errors. In this project our target variable is trip duration which varies largely so we we will be able to detect the smaller errors using MAE as its formula comorise of square root difference of prdicted and actual value. "
   ]
  },
  {
   "cell_type": "markdown",
   "id": "f6a0ad19",
   "metadata": {},
   "source": [
    "# 2. Building benchmark model"
   ]
  },
  {
   "cell_type": "code",
   "execution_count": 1,
   "id": "ef640f70",
   "metadata": {},
   "outputs": [],
   "source": [
    "#Import required libraries\n",
    "import pandas as pd  \n",
    "import numpy as np\n",
    "import matplotlib.pyplot as plt\n",
    "%matplotlib inline\n",
    "\n",
    "import warnings\n",
    "warnings.filterwarnings(\"ignore\")"
   ]
  },
  {
   "cell_type": "code",
   "execution_count": 2,
   "id": "0a46330c",
   "metadata": {},
   "outputs": [],
   "source": [
    "# Read the data set using pandas\n",
    "data = pd.read_csv(r'C:\\Users\\bhawna bhatti\\Downloads\\nyc_taxi_trip_duration.csv')"
   ]
  },
  {
   "cell_type": "code",
   "execution_count": 3,
   "id": "79d89903",
   "metadata": {},
   "outputs": [
    {
     "data": {
      "text/html": [
       "<div>\n",
       "<style scoped>\n",
       "    .dataframe tbody tr th:only-of-type {\n",
       "        vertical-align: middle;\n",
       "    }\n",
       "\n",
       "    .dataframe tbody tr th {\n",
       "        vertical-align: top;\n",
       "    }\n",
       "\n",
       "    .dataframe thead th {\n",
       "        text-align: right;\n",
       "    }\n",
       "</style>\n",
       "<table border=\"1\" class=\"dataframe\">\n",
       "  <thead>\n",
       "    <tr style=\"text-align: right;\">\n",
       "      <th></th>\n",
       "      <th>id</th>\n",
       "      <th>vendor_id</th>\n",
       "      <th>pickup_datetime</th>\n",
       "      <th>dropoff_datetime</th>\n",
       "      <th>passenger_count</th>\n",
       "      <th>pickup_longitude</th>\n",
       "      <th>pickup_latitude</th>\n",
       "      <th>dropoff_longitude</th>\n",
       "      <th>dropoff_latitude</th>\n",
       "      <th>store_and_fwd_flag</th>\n",
       "      <th>trip_duration</th>\n",
       "    </tr>\n",
       "  </thead>\n",
       "  <tbody>\n",
       "    <tr>\n",
       "      <th>0</th>\n",
       "      <td>id1080784</td>\n",
       "      <td>2</td>\n",
       "      <td>2016-02-29 16:40:21</td>\n",
       "      <td>2016-02-29 16:47:01</td>\n",
       "      <td>1</td>\n",
       "      <td>-73.953918</td>\n",
       "      <td>40.778873</td>\n",
       "      <td>-73.963875</td>\n",
       "      <td>40.771164</td>\n",
       "      <td>N</td>\n",
       "      <td>400</td>\n",
       "    </tr>\n",
       "    <tr>\n",
       "      <th>1</th>\n",
       "      <td>id0889885</td>\n",
       "      <td>1</td>\n",
       "      <td>2016-03-11 23:35:37</td>\n",
       "      <td>2016-03-11 23:53:57</td>\n",
       "      <td>2</td>\n",
       "      <td>-73.988312</td>\n",
       "      <td>40.731743</td>\n",
       "      <td>-73.994751</td>\n",
       "      <td>40.694931</td>\n",
       "      <td>N</td>\n",
       "      <td>1100</td>\n",
       "    </tr>\n",
       "    <tr>\n",
       "      <th>2</th>\n",
       "      <td>id0857912</td>\n",
       "      <td>2</td>\n",
       "      <td>2016-02-21 17:59:33</td>\n",
       "      <td>2016-02-21 18:26:48</td>\n",
       "      <td>2</td>\n",
       "      <td>-73.997314</td>\n",
       "      <td>40.721458</td>\n",
       "      <td>-73.948029</td>\n",
       "      <td>40.774918</td>\n",
       "      <td>N</td>\n",
       "      <td>1635</td>\n",
       "    </tr>\n",
       "    <tr>\n",
       "      <th>3</th>\n",
       "      <td>id3744273</td>\n",
       "      <td>2</td>\n",
       "      <td>2016-01-05 09:44:31</td>\n",
       "      <td>2016-01-05 10:03:32</td>\n",
       "      <td>6</td>\n",
       "      <td>-73.961670</td>\n",
       "      <td>40.759720</td>\n",
       "      <td>-73.956779</td>\n",
       "      <td>40.780628</td>\n",
       "      <td>N</td>\n",
       "      <td>1141</td>\n",
       "    </tr>\n",
       "    <tr>\n",
       "      <th>4</th>\n",
       "      <td>id0232939</td>\n",
       "      <td>1</td>\n",
       "      <td>2016-02-17 06:42:23</td>\n",
       "      <td>2016-02-17 06:56:31</td>\n",
       "      <td>1</td>\n",
       "      <td>-74.017120</td>\n",
       "      <td>40.708469</td>\n",
       "      <td>-73.988182</td>\n",
       "      <td>40.740631</td>\n",
       "      <td>N</td>\n",
       "      <td>848</td>\n",
       "    </tr>\n",
       "  </tbody>\n",
       "</table>\n",
       "</div>"
      ],
      "text/plain": [
       "          id  vendor_id      pickup_datetime     dropoff_datetime  \\\n",
       "0  id1080784          2  2016-02-29 16:40:21  2016-02-29 16:47:01   \n",
       "1  id0889885          1  2016-03-11 23:35:37  2016-03-11 23:53:57   \n",
       "2  id0857912          2  2016-02-21 17:59:33  2016-02-21 18:26:48   \n",
       "3  id3744273          2  2016-01-05 09:44:31  2016-01-05 10:03:32   \n",
       "4  id0232939          1  2016-02-17 06:42:23  2016-02-17 06:56:31   \n",
       "\n",
       "   passenger_count  pickup_longitude  pickup_latitude  dropoff_longitude  \\\n",
       "0                1        -73.953918        40.778873         -73.963875   \n",
       "1                2        -73.988312        40.731743         -73.994751   \n",
       "2                2        -73.997314        40.721458         -73.948029   \n",
       "3                6        -73.961670        40.759720         -73.956779   \n",
       "4                1        -74.017120        40.708469         -73.988182   \n",
       "\n",
       "   dropoff_latitude store_and_fwd_flag  trip_duration  \n",
       "0         40.771164                  N            400  \n",
       "1         40.694931                  N           1100  \n",
       "2         40.774918                  N           1635  \n",
       "3         40.780628                  N           1141  \n",
       "4         40.740631                  N            848  "
      ]
     },
     "execution_count": 3,
     "metadata": {},
     "output_type": "execute_result"
    }
   ],
   "source": [
    "# Read first 5 lines\n",
    "data.head()"
   ]
  },
  {
   "cell_type": "code",
   "execution_count": 4,
   "id": "c95ad9ff",
   "metadata": {},
   "outputs": [
    {
     "data": {
      "text/plain": [
       "(729322, 11)"
      ]
     },
     "execution_count": 4,
     "metadata": {},
     "output_type": "execute_result"
    }
   ],
   "source": [
    "# check shape: Rows and columns\n",
    "data.shape"
   ]
  },
  {
   "cell_type": "code",
   "execution_count": 5,
   "id": "eb9192a1",
   "metadata": {},
   "outputs": [
    {
     "data": {
      "text/plain": [
       "id                     object\n",
       "vendor_id               int64\n",
       "pickup_datetime        object\n",
       "dropoff_datetime       object\n",
       "passenger_count         int64\n",
       "pickup_longitude      float64\n",
       "pickup_latitude       float64\n",
       "dropoff_longitude     float64\n",
       "dropoff_latitude      float64\n",
       "store_and_fwd_flag     object\n",
       "trip_duration           int64\n",
       "dtype: object"
      ]
     },
     "execution_count": 5,
     "metadata": {},
     "output_type": "execute_result"
    }
   ],
   "source": [
    "#data types of variables\n",
    "data.dtypes"
   ]
  },
  {
   "cell_type": "code",
   "execution_count": 6,
   "id": "83296077",
   "metadata": {},
   "outputs": [
    {
     "data": {
      "text/plain": [
       "id                    0\n",
       "vendor_id             0\n",
       "pickup_datetime       0\n",
       "dropoff_datetime      0\n",
       "passenger_count       0\n",
       "pickup_longitude      0\n",
       "pickup_latitude       0\n",
       "dropoff_longitude     0\n",
       "dropoff_latitude      0\n",
       "store_and_fwd_flag    0\n",
       "trip_duration         0\n",
       "dtype: int64"
      ]
     },
     "execution_count": 6,
     "metadata": {},
     "output_type": "execute_result"
    }
   ],
   "source": [
    "# look for missing values\n",
    "data.isnull().sum()"
   ]
  },
  {
   "cell_type": "code",
   "execution_count": 7,
   "id": "ba5f2757",
   "metadata": {},
   "outputs": [],
   "source": [
    "# convert dtype of pickup and dropoff to datetime\n",
    "data['pickup_datetime'] = pd.to_datetime(data['pickup_datetime'])\n",
    "data['dropoff_datetime'] = pd.to_datetime(data['dropoff_datetime'])"
   ]
  },
  {
   "cell_type": "code",
   "execution_count": 8,
   "id": "66ffd072",
   "metadata": {},
   "outputs": [],
   "source": [
    " #extract day of week and hour of day from pickup time\n",
    "import datetime as dt\n",
    "data['day_of_week'] = data['pickup_datetime'].dt.weekday\n",
    "data['hour_of_day'] = data['pickup_datetime'].dt.hour"
   ]
  },
  {
   "cell_type": "code",
   "execution_count": 9,
   "id": "942185b6",
   "metadata": {},
   "outputs": [
    {
     "data": {
      "text/html": [
       "<div>\n",
       "<style scoped>\n",
       "    .dataframe tbody tr th:only-of-type {\n",
       "        vertical-align: middle;\n",
       "    }\n",
       "\n",
       "    .dataframe tbody tr th {\n",
       "        vertical-align: top;\n",
       "    }\n",
       "\n",
       "    .dataframe thead th {\n",
       "        text-align: right;\n",
       "    }\n",
       "</style>\n",
       "<table border=\"1\" class=\"dataframe\">\n",
       "  <thead>\n",
       "    <tr style=\"text-align: right;\">\n",
       "      <th></th>\n",
       "      <th>id</th>\n",
       "      <th>vendor_id</th>\n",
       "      <th>pickup_datetime</th>\n",
       "      <th>dropoff_datetime</th>\n",
       "      <th>passenger_count</th>\n",
       "      <th>pickup_longitude</th>\n",
       "      <th>pickup_latitude</th>\n",
       "      <th>dropoff_longitude</th>\n",
       "      <th>dropoff_latitude</th>\n",
       "      <th>store_and_fwd_flag</th>\n",
       "      <th>trip_duration</th>\n",
       "      <th>day_of_week</th>\n",
       "      <th>hour_of_day</th>\n",
       "    </tr>\n",
       "  </thead>\n",
       "  <tbody>\n",
       "    <tr>\n",
       "      <th>0</th>\n",
       "      <td>id1080784</td>\n",
       "      <td>2</td>\n",
       "      <td>2016-02-29 16:40:21</td>\n",
       "      <td>2016-02-29 16:47:01</td>\n",
       "      <td>1</td>\n",
       "      <td>-73.953918</td>\n",
       "      <td>40.778873</td>\n",
       "      <td>-73.963875</td>\n",
       "      <td>40.771164</td>\n",
       "      <td>N</td>\n",
       "      <td>400</td>\n",
       "      <td>0</td>\n",
       "      <td>16</td>\n",
       "    </tr>\n",
       "    <tr>\n",
       "      <th>1</th>\n",
       "      <td>id0889885</td>\n",
       "      <td>1</td>\n",
       "      <td>2016-03-11 23:35:37</td>\n",
       "      <td>2016-03-11 23:53:57</td>\n",
       "      <td>2</td>\n",
       "      <td>-73.988312</td>\n",
       "      <td>40.731743</td>\n",
       "      <td>-73.994751</td>\n",
       "      <td>40.694931</td>\n",
       "      <td>N</td>\n",
       "      <td>1100</td>\n",
       "      <td>4</td>\n",
       "      <td>23</td>\n",
       "    </tr>\n",
       "    <tr>\n",
       "      <th>2</th>\n",
       "      <td>id0857912</td>\n",
       "      <td>2</td>\n",
       "      <td>2016-02-21 17:59:33</td>\n",
       "      <td>2016-02-21 18:26:48</td>\n",
       "      <td>2</td>\n",
       "      <td>-73.997314</td>\n",
       "      <td>40.721458</td>\n",
       "      <td>-73.948029</td>\n",
       "      <td>40.774918</td>\n",
       "      <td>N</td>\n",
       "      <td>1635</td>\n",
       "      <td>6</td>\n",
       "      <td>17</td>\n",
       "    </tr>\n",
       "    <tr>\n",
       "      <th>3</th>\n",
       "      <td>id3744273</td>\n",
       "      <td>2</td>\n",
       "      <td>2016-01-05 09:44:31</td>\n",
       "      <td>2016-01-05 10:03:32</td>\n",
       "      <td>6</td>\n",
       "      <td>-73.961670</td>\n",
       "      <td>40.759720</td>\n",
       "      <td>-73.956779</td>\n",
       "      <td>40.780628</td>\n",
       "      <td>N</td>\n",
       "      <td>1141</td>\n",
       "      <td>1</td>\n",
       "      <td>9</td>\n",
       "    </tr>\n",
       "    <tr>\n",
       "      <th>4</th>\n",
       "      <td>id0232939</td>\n",
       "      <td>1</td>\n",
       "      <td>2016-02-17 06:42:23</td>\n",
       "      <td>2016-02-17 06:56:31</td>\n",
       "      <td>1</td>\n",
       "      <td>-74.017120</td>\n",
       "      <td>40.708469</td>\n",
       "      <td>-73.988182</td>\n",
       "      <td>40.740631</td>\n",
       "      <td>N</td>\n",
       "      <td>848</td>\n",
       "      <td>2</td>\n",
       "      <td>6</td>\n",
       "    </tr>\n",
       "  </tbody>\n",
       "</table>\n",
       "</div>"
      ],
      "text/plain": [
       "          id  vendor_id     pickup_datetime    dropoff_datetime  \\\n",
       "0  id1080784          2 2016-02-29 16:40:21 2016-02-29 16:47:01   \n",
       "1  id0889885          1 2016-03-11 23:35:37 2016-03-11 23:53:57   \n",
       "2  id0857912          2 2016-02-21 17:59:33 2016-02-21 18:26:48   \n",
       "3  id3744273          2 2016-01-05 09:44:31 2016-01-05 10:03:32   \n",
       "4  id0232939          1 2016-02-17 06:42:23 2016-02-17 06:56:31   \n",
       "\n",
       "   passenger_count  pickup_longitude  pickup_latitude  dropoff_longitude  \\\n",
       "0                1        -73.953918        40.778873         -73.963875   \n",
       "1                2        -73.988312        40.731743         -73.994751   \n",
       "2                2        -73.997314        40.721458         -73.948029   \n",
       "3                6        -73.961670        40.759720         -73.956779   \n",
       "4                1        -74.017120        40.708469         -73.988182   \n",
       "\n",
       "   dropoff_latitude store_and_fwd_flag  trip_duration  day_of_week  \\\n",
       "0         40.771164                  N            400            0   \n",
       "1         40.694931                  N           1100            4   \n",
       "2         40.774918                  N           1635            6   \n",
       "3         40.780628                  N           1141            1   \n",
       "4         40.740631                  N            848            2   \n",
       "\n",
       "   hour_of_day  \n",
       "0           16  \n",
       "1           23  \n",
       "2           17  \n",
       "3            9  \n",
       "4            6  "
      ]
     },
     "execution_count": 9,
     "metadata": {},
     "output_type": "execute_result"
    }
   ],
   "source": [
    "data.head()"
   ]
  },
  {
   "cell_type": "markdown",
   "id": "3d4cd0a3",
   "metadata": {},
   "source": [
    "Shuffling and dividing dataset into train and test dataset"
   ]
  },
  {
   "cell_type": "code",
   "execution_count": 10,
   "id": "8cc32eac",
   "metadata": {},
   "outputs": [],
   "source": [
    "#import sklearn to perform this task\n",
    "from sklearn.utils import shuffle\n",
    "\n",
    "#divide the data into 4 parts : 3 parts tran and 1 part test data \n",
    "data = shuffle(data, random_state =42)\n",
    "div= int(data.shape[0]/4)\n",
    "train = data.loc[:3*div+1,:]\n",
    "test = data.loc[3*div+1:]"
   ]
  },
  {
   "cell_type": "code",
   "execution_count": 11,
   "id": "97eecaa3",
   "metadata": {},
   "outputs": [
    {
     "data": {
      "text/html": [
       "<div>\n",
       "<style scoped>\n",
       "    .dataframe tbody tr th:only-of-type {\n",
       "        vertical-align: middle;\n",
       "    }\n",
       "\n",
       "    .dataframe tbody tr th {\n",
       "        vertical-align: top;\n",
       "    }\n",
       "\n",
       "    .dataframe thead th {\n",
       "        text-align: right;\n",
       "    }\n",
       "</style>\n",
       "<table border=\"1\" class=\"dataframe\">\n",
       "  <thead>\n",
       "    <tr style=\"text-align: right;\">\n",
       "      <th></th>\n",
       "      <th>id</th>\n",
       "      <th>vendor_id</th>\n",
       "      <th>pickup_datetime</th>\n",
       "      <th>dropoff_datetime</th>\n",
       "      <th>passenger_count</th>\n",
       "      <th>pickup_longitude</th>\n",
       "      <th>pickup_latitude</th>\n",
       "      <th>dropoff_longitude</th>\n",
       "      <th>dropoff_latitude</th>\n",
       "      <th>store_and_fwd_flag</th>\n",
       "      <th>trip_duration</th>\n",
       "      <th>day_of_week</th>\n",
       "      <th>hour_of_day</th>\n",
       "    </tr>\n",
       "  </thead>\n",
       "  <tbody>\n",
       "    <tr>\n",
       "      <th>469114</th>\n",
       "      <td>id2380741</td>\n",
       "      <td>2</td>\n",
       "      <td>2016-05-21 10:40:14</td>\n",
       "      <td>2016-05-21 10:51:11</td>\n",
       "      <td>1</td>\n",
       "      <td>-73.981796</td>\n",
       "      <td>40.762035</td>\n",
       "      <td>-73.972267</td>\n",
       "      <td>40.781265</td>\n",
       "      <td>N</td>\n",
       "      <td>657</td>\n",
       "      <td>5</td>\n",
       "      <td>10</td>\n",
       "    </tr>\n",
       "    <tr>\n",
       "      <th>694852</th>\n",
       "      <td>id3946961</td>\n",
       "      <td>2</td>\n",
       "      <td>2016-01-08 18:49:27</td>\n",
       "      <td>2016-01-08 18:52:42</td>\n",
       "      <td>5</td>\n",
       "      <td>-73.980965</td>\n",
       "      <td>40.747677</td>\n",
       "      <td>-73.982704</td>\n",
       "      <td>40.741161</td>\n",
       "      <td>N</td>\n",
       "      <td>195</td>\n",
       "      <td>4</td>\n",
       "      <td>18</td>\n",
       "    </tr>\n",
       "    <tr>\n",
       "      <th>696324</th>\n",
       "      <td>id0833913</td>\n",
       "      <td>1</td>\n",
       "      <td>2016-05-22 00:54:10</td>\n",
       "      <td>2016-05-22 01:08:10</td>\n",
       "      <td>1</td>\n",
       "      <td>-73.951065</td>\n",
       "      <td>40.782722</td>\n",
       "      <td>-73.867691</td>\n",
       "      <td>40.833664</td>\n",
       "      <td>N</td>\n",
       "      <td>840</td>\n",
       "      <td>6</td>\n",
       "      <td>0</td>\n",
       "    </tr>\n",
       "    <tr>\n",
       "      <th>356496</th>\n",
       "      <td>id1336849</td>\n",
       "      <td>1</td>\n",
       "      <td>2016-06-11 10:32:12</td>\n",
       "      <td>2016-06-11 10:38:50</td>\n",
       "      <td>1</td>\n",
       "      <td>-73.987625</td>\n",
       "      <td>40.762791</td>\n",
       "      <td>-73.973518</td>\n",
       "      <td>40.762909</td>\n",
       "      <td>N</td>\n",
       "      <td>398</td>\n",
       "      <td>5</td>\n",
       "      <td>10</td>\n",
       "    </tr>\n",
       "    <tr>\n",
       "      <th>645318</th>\n",
       "      <td>id1610858</td>\n",
       "      <td>1</td>\n",
       "      <td>2016-04-03 10:45:51</td>\n",
       "      <td>2016-04-03 10:57:13</td>\n",
       "      <td>3</td>\n",
       "      <td>-73.964333</td>\n",
       "      <td>40.792503</td>\n",
       "      <td>-73.988609</td>\n",
       "      <td>40.758369</td>\n",
       "      <td>N</td>\n",
       "      <td>682</td>\n",
       "      <td>6</td>\n",
       "      <td>10</td>\n",
       "    </tr>\n",
       "  </tbody>\n",
       "</table>\n",
       "</div>"
      ],
      "text/plain": [
       "               id  vendor_id     pickup_datetime    dropoff_datetime  \\\n",
       "469114  id2380741          2 2016-05-21 10:40:14 2016-05-21 10:51:11   \n",
       "694852  id3946961          2 2016-01-08 18:49:27 2016-01-08 18:52:42   \n",
       "696324  id0833913          1 2016-05-22 00:54:10 2016-05-22 01:08:10   \n",
       "356496  id1336849          1 2016-06-11 10:32:12 2016-06-11 10:38:50   \n",
       "645318  id1610858          1 2016-04-03 10:45:51 2016-04-03 10:57:13   \n",
       "\n",
       "        passenger_count  pickup_longitude  pickup_latitude  dropoff_longitude  \\\n",
       "469114                1        -73.981796        40.762035         -73.972267   \n",
       "694852                5        -73.980965        40.747677         -73.982704   \n",
       "696324                1        -73.951065        40.782722         -73.867691   \n",
       "356496                1        -73.987625        40.762791         -73.973518   \n",
       "645318                3        -73.964333        40.792503         -73.988609   \n",
       "\n",
       "        dropoff_latitude store_and_fwd_flag  trip_duration  day_of_week  \\\n",
       "469114         40.781265                  N            657            5   \n",
       "694852         40.741161                  N            195            4   \n",
       "696324         40.833664                  N            840            6   \n",
       "356496         40.762909                  N            398            5   \n",
       "645318         40.758369                  N            682            6   \n",
       "\n",
       "        hour_of_day  \n",
       "469114           10  \n",
       "694852           18  \n",
       "696324            0  \n",
       "356496           10  \n",
       "645318           10  "
      ]
     },
     "execution_count": 11,
     "metadata": {},
     "output_type": "execute_result"
    }
   ],
   "source": [
    "train.head()"
   ]
  },
  {
   "cell_type": "code",
   "execution_count": 12,
   "id": "0c64fd0a",
   "metadata": {},
   "outputs": [
    {
     "data": {
      "text/html": [
       "<div>\n",
       "<style scoped>\n",
       "    .dataframe tbody tr th:only-of-type {\n",
       "        vertical-align: middle;\n",
       "    }\n",
       "\n",
       "    .dataframe tbody tr th {\n",
       "        vertical-align: top;\n",
       "    }\n",
       "\n",
       "    .dataframe thead th {\n",
       "        text-align: right;\n",
       "    }\n",
       "</style>\n",
       "<table border=\"1\" class=\"dataframe\">\n",
       "  <thead>\n",
       "    <tr style=\"text-align: right;\">\n",
       "      <th></th>\n",
       "      <th>id</th>\n",
       "      <th>vendor_id</th>\n",
       "      <th>pickup_datetime</th>\n",
       "      <th>dropoff_datetime</th>\n",
       "      <th>passenger_count</th>\n",
       "      <th>pickup_longitude</th>\n",
       "      <th>pickup_latitude</th>\n",
       "      <th>dropoff_longitude</th>\n",
       "      <th>dropoff_latitude</th>\n",
       "      <th>store_and_fwd_flag</th>\n",
       "      <th>trip_duration</th>\n",
       "      <th>day_of_week</th>\n",
       "      <th>hour_of_day</th>\n",
       "    </tr>\n",
       "  </thead>\n",
       "  <tbody>\n",
       "    <tr>\n",
       "      <th>546991</th>\n",
       "      <td>id2240736</td>\n",
       "      <td>1</td>\n",
       "      <td>2016-05-25 07:59:16</td>\n",
       "      <td>2016-05-25 08:05:02</td>\n",
       "      <td>1</td>\n",
       "      <td>-73.991364</td>\n",
       "      <td>40.732590</td>\n",
       "      <td>-74.000526</td>\n",
       "      <td>40.742283</td>\n",
       "      <td>N</td>\n",
       "      <td>346</td>\n",
       "      <td>2</td>\n",
       "      <td>7</td>\n",
       "    </tr>\n",
       "    <tr>\n",
       "      <th>43126</th>\n",
       "      <td>id1423404</td>\n",
       "      <td>1</td>\n",
       "      <td>2016-01-18 12:17:13</td>\n",
       "      <td>2016-01-18 12:21:13</td>\n",
       "      <td>2</td>\n",
       "      <td>-73.966225</td>\n",
       "      <td>40.768059</td>\n",
       "      <td>-73.967606</td>\n",
       "      <td>40.763073</td>\n",
       "      <td>N</td>\n",
       "      <td>240</td>\n",
       "      <td>0</td>\n",
       "      <td>12</td>\n",
       "    </tr>\n",
       "    <tr>\n",
       "      <th>641450</th>\n",
       "      <td>id1317268</td>\n",
       "      <td>2</td>\n",
       "      <td>2016-03-02 18:39:01</td>\n",
       "      <td>2016-03-02 18:50:12</td>\n",
       "      <td>1</td>\n",
       "      <td>-73.994926</td>\n",
       "      <td>40.766018</td>\n",
       "      <td>-74.004219</td>\n",
       "      <td>40.742523</td>\n",
       "      <td>N</td>\n",
       "      <td>671</td>\n",
       "      <td>2</td>\n",
       "      <td>18</td>\n",
       "    </tr>\n",
       "    <tr>\n",
       "      <th>611380</th>\n",
       "      <td>id3335546</td>\n",
       "      <td>1</td>\n",
       "      <td>2016-04-06 19:17:20</td>\n",
       "      <td>2016-04-06 19:18:03</td>\n",
       "      <td>1</td>\n",
       "      <td>-73.974388</td>\n",
       "      <td>40.793781</td>\n",
       "      <td>-73.976006</td>\n",
       "      <td>40.792339</td>\n",
       "      <td>N</td>\n",
       "      <td>43</td>\n",
       "      <td>2</td>\n",
       "      <td>19</td>\n",
       "    </tr>\n",
       "    <tr>\n",
       "      <th>62690</th>\n",
       "      <td>id2174190</td>\n",
       "      <td>2</td>\n",
       "      <td>2016-06-21 18:35:31</td>\n",
       "      <td>2016-06-21 18:40:56</td>\n",
       "      <td>3</td>\n",
       "      <td>-73.963440</td>\n",
       "      <td>40.798557</td>\n",
       "      <td>-73.979736</td>\n",
       "      <td>40.777878</td>\n",
       "      <td>N</td>\n",
       "      <td>325</td>\n",
       "      <td>1</td>\n",
       "      <td>18</td>\n",
       "    </tr>\n",
       "  </tbody>\n",
       "</table>\n",
       "</div>"
      ],
      "text/plain": [
       "               id  vendor_id     pickup_datetime    dropoff_datetime  \\\n",
       "546991  id2240736          1 2016-05-25 07:59:16 2016-05-25 08:05:02   \n",
       "43126   id1423404          1 2016-01-18 12:17:13 2016-01-18 12:21:13   \n",
       "641450  id1317268          2 2016-03-02 18:39:01 2016-03-02 18:50:12   \n",
       "611380  id3335546          1 2016-04-06 19:17:20 2016-04-06 19:18:03   \n",
       "62690   id2174190          2 2016-06-21 18:35:31 2016-06-21 18:40:56   \n",
       "\n",
       "        passenger_count  pickup_longitude  pickup_latitude  dropoff_longitude  \\\n",
       "546991                1        -73.991364        40.732590         -74.000526   \n",
       "43126                 2        -73.966225        40.768059         -73.967606   \n",
       "641450                1        -73.994926        40.766018         -74.004219   \n",
       "611380                1        -73.974388        40.793781         -73.976006   \n",
       "62690                 3        -73.963440        40.798557         -73.979736   \n",
       "\n",
       "        dropoff_latitude store_and_fwd_flag  trip_duration  day_of_week  \\\n",
       "546991         40.742283                  N            346            2   \n",
       "43126          40.763073                  N            240            0   \n",
       "641450         40.742523                  N            671            2   \n",
       "611380         40.792339                  N             43            2   \n",
       "62690          40.777878                  N            325            1   \n",
       "\n",
       "        hour_of_day  \n",
       "546991            7  \n",
       "43126            12  \n",
       "641450           18  \n",
       "611380           19  \n",
       "62690            18  "
      ]
     },
     "execution_count": 12,
     "metadata": {},
     "output_type": "execute_result"
    }
   ],
   "source": [
    "test.head()"
   ]
  },
  {
   "cell_type": "code",
   "execution_count": 13,
   "id": "df54cbcd",
   "metadata": {},
   "outputs": [],
   "source": [
    "#mean of target which is trip duration and storing it as a simple_mean\n",
    "test['simple_mean'] = train['trip_duration'].mean()"
   ]
  },
  {
   "cell_type": "code",
   "execution_count": 14,
   "id": "0123d605",
   "metadata": {},
   "outputs": [
    {
     "data": {
      "text/plain": [
       "546991    951.586402\n",
       "43126     951.586402\n",
       "641450    951.586402\n",
       "611380    951.586402\n",
       "62690     951.586402\n",
       "             ...    \n",
       "259178    951.586402\n",
       "365838    951.586402\n",
       "131932    951.586402\n",
       "671155    951.586402\n",
       "121958    951.586402\n",
       "Name: simple_mean, Length: 139872, dtype: float64"
      ]
     },
     "execution_count": 14,
     "metadata": {},
     "output_type": "execute_result"
    }
   ],
   "source": [
    "test['simple_mean']"
   ]
  },
  {
   "cell_type": "code",
   "execution_count": 15,
   "id": "bc88a6a8",
   "metadata": {},
   "outputs": [],
   "source": [
    "#importing mean absolute error metrics\n",
    "from sklearn.metrics import mean_absolute_error as MAE"
   ]
  },
  {
   "cell_type": "code",
   "execution_count": 16,
   "id": "a2f858be",
   "metadata": {},
   "outputs": [],
   "source": [
    "#Calculating mean absolute error\n",
    "simple_mean_error = MAE(test['trip_duration'], test['simple_mean'])"
   ]
  },
  {
   "cell_type": "code",
   "execution_count": 17,
   "id": "e543331a",
   "metadata": {},
   "outputs": [
    {
     "data": {
      "text/plain": [
       "621.9954570969938"
      ]
     },
     "execution_count": 17,
     "metadata": {},
     "output_type": "execute_result"
    }
   ],
   "source": [
    "simple_mean_error"
   ]
  },
  {
   "cell_type": "code",
   "execution_count": 18,
   "id": "49784826",
   "metadata": {},
   "outputs": [
    {
     "data": {
      "text/html": [
       "<div>\n",
       "<style scoped>\n",
       "    .dataframe tbody tr th:only-of-type {\n",
       "        vertical-align: middle;\n",
       "    }\n",
       "\n",
       "    .dataframe tbody tr th {\n",
       "        vertical-align: top;\n",
       "    }\n",
       "\n",
       "    .dataframe thead th {\n",
       "        text-align: right;\n",
       "    }\n",
       "</style>\n",
       "<table border=\"1\" class=\"dataframe\">\n",
       "  <thead>\n",
       "    <tr style=\"text-align: right;\">\n",
       "      <th></th>\n",
       "      <th>trip_duration</th>\n",
       "    </tr>\n",
       "    <tr>\n",
       "      <th>day_of_week</th>\n",
       "      <th></th>\n",
       "    </tr>\n",
       "  </thead>\n",
       "  <tbody>\n",
       "    <tr>\n",
       "      <th>0</th>\n",
       "      <td>890.012810</td>\n",
       "    </tr>\n",
       "    <tr>\n",
       "      <th>1</th>\n",
       "      <td>984.251885</td>\n",
       "    </tr>\n",
       "    <tr>\n",
       "      <th>2</th>\n",
       "      <td>973.047004</td>\n",
       "    </tr>\n",
       "    <tr>\n",
       "      <th>3</th>\n",
       "      <td>1005.146720</td>\n",
       "    </tr>\n",
       "    <tr>\n",
       "      <th>4</th>\n",
       "      <td>989.699815</td>\n",
       "    </tr>\n",
       "    <tr>\n",
       "      <th>5</th>\n",
       "      <td>918.067036</td>\n",
       "    </tr>\n",
       "    <tr>\n",
       "      <th>6</th>\n",
       "      <td>888.431043</td>\n",
       "    </tr>\n",
       "  </tbody>\n",
       "</table>\n",
       "</div>"
      ],
      "text/plain": [
       "             trip_duration\n",
       "day_of_week               \n",
       "0               890.012810\n",
       "1               984.251885\n",
       "2               973.047004\n",
       "3              1005.146720\n",
       "4               989.699815\n",
       "5               918.067036\n",
       "6               888.431043"
      ]
     },
     "execution_count": 18,
     "metadata": {},
     "output_type": "execute_result"
    }
   ],
   "source": [
    "#creating pivot table for day of week and its trip duration\n",
    "day_of_week = pd.pivot_table(train, values = 'trip_duration', index = ['day_of_week'], aggfunc=np.mean)\n",
    "day_of_week"
   ]
  },
  {
   "cell_type": "code",
   "execution_count": 19,
   "id": "10fc8a52",
   "metadata": {},
   "outputs": [],
   "source": [
    "#iterate through each day of week and calcualte mean for each day\n",
    "test['day_of_week_mean'] = 0\n",
    "\n",
    "for i in train['day_of_week'].unique():\n",
    "    test['day_of_week_mean'][test['day_of_week']== i] = train['trip_duration'][train['day_of_week']== i].mean()"
   ]
  },
  {
   "cell_type": "code",
   "execution_count": 20,
   "id": "ada054c1",
   "metadata": {},
   "outputs": [
    {
     "data": {
      "text/plain": [
       "620.6622607467708"
      ]
     },
     "execution_count": 20,
     "metadata": {},
     "output_type": "execute_result"
    }
   ],
   "source": [
    "#calculating mean absolute error\n",
    "day_of_week_error = MAE(test['trip_duration'],test['day_of_week_mean'])\n",
    "day_of_week_error"
   ]
  },
  {
   "cell_type": "code",
   "execution_count": 21,
   "id": "ac08ca3c",
   "metadata": {},
   "outputs": [],
   "source": [
    "#Mean absolute error : pickup_time (hour of day)¶"
   ]
  },
  {
   "cell_type": "code",
   "execution_count": 22,
   "id": "e60a8cd0",
   "metadata": {},
   "outputs": [
    {
     "data": {
      "text/html": [
       "<div>\n",
       "<style scoped>\n",
       "    .dataframe tbody tr th:only-of-type {\n",
       "        vertical-align: middle;\n",
       "    }\n",
       "\n",
       "    .dataframe tbody tr th {\n",
       "        vertical-align: top;\n",
       "    }\n",
       "\n",
       "    .dataframe thead th {\n",
       "        text-align: right;\n",
       "    }\n",
       "</style>\n",
       "<table border=\"1\" class=\"dataframe\">\n",
       "  <thead>\n",
       "    <tr style=\"text-align: right;\">\n",
       "      <th></th>\n",
       "      <th>trip_duration</th>\n",
       "    </tr>\n",
       "    <tr>\n",
       "      <th>hour_of_day</th>\n",
       "      <th></th>\n",
       "    </tr>\n",
       "  </thead>\n",
       "  <tbody>\n",
       "    <tr>\n",
       "      <th>0</th>\n",
       "      <td>982.268516</td>\n",
       "    </tr>\n",
       "    <tr>\n",
       "      <th>1</th>\n",
       "      <td>915.598624</td>\n",
       "    </tr>\n",
       "    <tr>\n",
       "      <th>2</th>\n",
       "      <td>853.385638</td>\n",
       "    </tr>\n",
       "    <tr>\n",
       "      <th>3</th>\n",
       "      <td>886.535977</td>\n",
       "    </tr>\n",
       "    <tr>\n",
       "      <th>4</th>\n",
       "      <td>890.512498</td>\n",
       "    </tr>\n",
       "    <tr>\n",
       "      <th>5</th>\n",
       "      <td>829.845634</td>\n",
       "    </tr>\n",
       "    <tr>\n",
       "      <th>6</th>\n",
       "      <td>726.336661</td>\n",
       "    </tr>\n",
       "    <tr>\n",
       "      <th>7</th>\n",
       "      <td>812.179002</td>\n",
       "    </tr>\n",
       "    <tr>\n",
       "      <th>8</th>\n",
       "      <td>937.732130</td>\n",
       "    </tr>\n",
       "    <tr>\n",
       "      <th>9</th>\n",
       "      <td>930.980245</td>\n",
       "    </tr>\n",
       "    <tr>\n",
       "      <th>10</th>\n",
       "      <td>951.272356</td>\n",
       "    </tr>\n",
       "    <tr>\n",
       "      <th>11</th>\n",
       "      <td>950.944420</td>\n",
       "    </tr>\n",
       "    <tr>\n",
       "      <th>12</th>\n",
       "      <td>979.790870</td>\n",
       "    </tr>\n",
       "    <tr>\n",
       "      <th>13</th>\n",
       "      <td>1014.624609</td>\n",
       "    </tr>\n",
       "    <tr>\n",
       "      <th>14</th>\n",
       "      <td>1084.491606</td>\n",
       "    </tr>\n",
       "    <tr>\n",
       "      <th>15</th>\n",
       "      <td>1117.583598</td>\n",
       "    </tr>\n",
       "    <tr>\n",
       "      <th>16</th>\n",
       "      <td>1093.067599</td>\n",
       "    </tr>\n",
       "    <tr>\n",
       "      <th>17</th>\n",
       "      <td>1041.374211</td>\n",
       "    </tr>\n",
       "    <tr>\n",
       "      <th>18</th>\n",
       "      <td>981.165605</td>\n",
       "    </tr>\n",
       "    <tr>\n",
       "      <th>19</th>\n",
       "      <td>895.084902</td>\n",
       "    </tr>\n",
       "    <tr>\n",
       "      <th>20</th>\n",
       "      <td>848.850640</td>\n",
       "    </tr>\n",
       "    <tr>\n",
       "      <th>21</th>\n",
       "      <td>889.002788</td>\n",
       "    </tr>\n",
       "    <tr>\n",
       "      <th>22</th>\n",
       "      <td>938.585268</td>\n",
       "    </tr>\n",
       "    <tr>\n",
       "      <th>23</th>\n",
       "      <td>916.715693</td>\n",
       "    </tr>\n",
       "  </tbody>\n",
       "</table>\n",
       "</div>"
      ],
      "text/plain": [
       "             trip_duration\n",
       "hour_of_day               \n",
       "0               982.268516\n",
       "1               915.598624\n",
       "2               853.385638\n",
       "3               886.535977\n",
       "4               890.512498\n",
       "5               829.845634\n",
       "6               726.336661\n",
       "7               812.179002\n",
       "8               937.732130\n",
       "9               930.980245\n",
       "10              951.272356\n",
       "11              950.944420\n",
       "12              979.790870\n",
       "13             1014.624609\n",
       "14             1084.491606\n",
       "15             1117.583598\n",
       "16             1093.067599\n",
       "17             1041.374211\n",
       "18              981.165605\n",
       "19              895.084902\n",
       "20              848.850640\n",
       "21              889.002788\n",
       "22              938.585268\n",
       "23              916.715693"
      ]
     },
     "execution_count": 22,
     "metadata": {},
     "output_type": "execute_result"
    }
   ],
   "source": [
    "#creating pivot table for hour of day and its trip duration\n",
    "hour_of_day = pd.pivot_table(train, values = 'trip_duration', index = ['hour_of_day'], aggfunc=np.mean)\n",
    "hour_of_day"
   ]
  },
  {
   "cell_type": "code",
   "execution_count": 23,
   "id": "7e2d27bd",
   "metadata": {},
   "outputs": [],
   "source": [
    "#iterate through each hour of day and calcualte mean for each day\n",
    "test['hour_of_day_mean'] = 0\n",
    "\n",
    "for i in train['hour_of_day'].unique():\n",
    "    test['hour_of_day_mean'][test['hour_of_day']== i] = train['trip_duration'][train['hour_of_day']== i].mean()"
   ]
  },
  {
   "cell_type": "code",
   "execution_count": 24,
   "id": "218ff752",
   "metadata": {},
   "outputs": [
    {
     "data": {
      "text/plain": [
       "620.3242746375885"
      ]
     },
     "execution_count": 24,
     "metadata": {},
     "output_type": "execute_result"
    }
   ],
   "source": [
    "# calculate MAE w.r.t hour of day\n",
    "hour_of_day_error = MAE(test['trip_duration'],test['hour_of_day_mean'])\n",
    "hour_of_day_error"
   ]
  },
  {
   "cell_type": "code",
   "execution_count": 25,
   "id": "fe639c22",
   "metadata": {},
   "outputs": [],
   "source": [
    "#Mean absolute error : vendor_id"
   ]
  },
  {
   "cell_type": "code",
   "execution_count": 26,
   "id": "e234b1d8",
   "metadata": {},
   "outputs": [
    {
     "data": {
      "text/html": [
       "<div>\n",
       "<style scoped>\n",
       "    .dataframe tbody tr th:only-of-type {\n",
       "        vertical-align: middle;\n",
       "    }\n",
       "\n",
       "    .dataframe tbody tr th {\n",
       "        vertical-align: top;\n",
       "    }\n",
       "\n",
       "    .dataframe thead th {\n",
       "        text-align: right;\n",
       "    }\n",
       "</style>\n",
       "<table border=\"1\" class=\"dataframe\">\n",
       "  <thead>\n",
       "    <tr style=\"text-align: right;\">\n",
       "      <th></th>\n",
       "      <th>trip_duration</th>\n",
       "    </tr>\n",
       "    <tr>\n",
       "      <th>vendor_id</th>\n",
       "      <th></th>\n",
       "    </tr>\n",
       "  </thead>\n",
       "  <tbody>\n",
       "    <tr>\n",
       "      <th>1</th>\n",
       "      <td>838.174354</td>\n",
       "    </tr>\n",
       "    <tr>\n",
       "      <th>2</th>\n",
       "      <td>1049.946134</td>\n",
       "    </tr>\n",
       "  </tbody>\n",
       "</table>\n",
       "</div>"
      ],
      "text/plain": [
       "           trip_duration\n",
       "vendor_id               \n",
       "1             838.174354\n",
       "2            1049.946134"
      ]
     },
     "execution_count": 26,
     "metadata": {},
     "output_type": "execute_result"
    }
   ],
   "source": [
    "#creating pivot table for day of week and its trip duration\n",
    "vendor = pd.pivot_table(train, values = 'trip_duration', index = ['vendor_id'], aggfunc= np.mean)\n",
    "vendor "
   ]
  },
  {
   "cell_type": "code",
   "execution_count": 27,
   "id": "e4b1bf30",
   "metadata": {},
   "outputs": [],
   "source": [
    "#iterate through each day of week and calcualte mean for each day\n",
    "test['vendor_id_mean'] = 0\n",
    "\n",
    "for i in train['vendor_id'].unique():\n",
    "    test['vendor_id_mean'][test['vendor_id']== i] = train['trip_duration'][train['vendor_id']== i].mean()"
   ]
  },
  {
   "cell_type": "code",
   "execution_count": 28,
   "id": "bbe04a4e",
   "metadata": {},
   "outputs": [
    {
     "data": {
      "text/plain": [
       "627.1274504364544"
      ]
     },
     "execution_count": 28,
     "metadata": {},
     "output_type": "execute_result"
    }
   ],
   "source": [
    "#calculate MAE for vendor id\n",
    "vendor_id_error = MAE(test['trip_duration'],test['vendor_id_mean'])\n",
    "vendor_id_error"
   ]
  },
  {
   "cell_type": "code",
   "execution_count": 29,
   "id": "e016efc0",
   "metadata": {},
   "outputs": [
    {
     "data": {
      "text/html": [
       "<div>\n",
       "<style scoped>\n",
       "    .dataframe tbody tr th:only-of-type {\n",
       "        vertical-align: middle;\n",
       "    }\n",
       "\n",
       "    .dataframe tbody tr th {\n",
       "        vertical-align: top;\n",
       "    }\n",
       "\n",
       "    .dataframe thead th {\n",
       "        text-align: right;\n",
       "    }\n",
       "</style>\n",
       "<table border=\"1\" class=\"dataframe\">\n",
       "  <thead>\n",
       "    <tr style=\"text-align: right;\">\n",
       "      <th></th>\n",
       "      <th>trip_duration</th>\n",
       "    </tr>\n",
       "    <tr>\n",
       "      <th>passenger_count</th>\n",
       "      <th></th>\n",
       "    </tr>\n",
       "  </thead>\n",
       "  <tbody>\n",
       "    <tr>\n",
       "      <th>0</th>\n",
       "      <td>334.733333</td>\n",
       "    </tr>\n",
       "    <tr>\n",
       "      <th>1</th>\n",
       "      <td>919.236280</td>\n",
       "    </tr>\n",
       "    <tr>\n",
       "      <th>2</th>\n",
       "      <td>1000.159939</td>\n",
       "    </tr>\n",
       "    <tr>\n",
       "      <th>3</th>\n",
       "      <td>1034.393923</td>\n",
       "    </tr>\n",
       "    <tr>\n",
       "      <th>4</th>\n",
       "      <td>1028.731304</td>\n",
       "    </tr>\n",
       "    <tr>\n",
       "      <th>5</th>\n",
       "      <td>1078.708147</td>\n",
       "    </tr>\n",
       "    <tr>\n",
       "      <th>6</th>\n",
       "      <td>1080.694100</td>\n",
       "    </tr>\n",
       "  </tbody>\n",
       "</table>\n",
       "</div>"
      ],
      "text/plain": [
       "                 trip_duration\n",
       "passenger_count               \n",
       "0                   334.733333\n",
       "1                   919.236280\n",
       "2                  1000.159939\n",
       "3                  1034.393923\n",
       "4                  1028.731304\n",
       "5                  1078.708147\n",
       "6                  1080.694100"
      ]
     },
     "execution_count": 29,
     "metadata": {},
     "output_type": "execute_result"
    }
   ],
   "source": [
    "#mean trip duration w.r.t passenger count\n",
    "#creating pivot table for day of week and its trip duration\n",
    "passenger = pd.pivot_table(train, values = 'trip_duration', index = ['passenger_count'], aggfunc= np.mean)\n",
    "passenger "
   ]
  },
  {
   "cell_type": "code",
   "execution_count": 30,
   "id": "6988d2d3",
   "metadata": {},
   "outputs": [],
   "source": [
    "#iterate through each day of week and calcualte mean for each day\n",
    "test['passenger_count_mean'] = 0\n",
    "\n",
    "for i in train['passenger_count'].unique():\n",
    "    test['passenger_count_mean'][test['passenger_count']== i] = train['trip_duration'][train['passenger_count']== i].mean()"
   ]
  },
  {
   "cell_type": "code",
   "execution_count": 31,
   "id": "00318357",
   "metadata": {},
   "outputs": [
    {
     "data": {
      "text/plain": [
       "622.5222915139927"
      ]
     },
     "execution_count": 31,
     "metadata": {},
     "output_type": "execute_result"
    }
   ],
   "source": [
    "passenger_count_error = MAE(test['trip_duration'],test['passenger_count_mean'])\n",
    "passenger_count_error"
   ]
  },
  {
   "cell_type": "code",
   "execution_count": 32,
   "id": "31e8f5ba",
   "metadata": {},
   "outputs": [],
   "source": [
    "#Mean absolute error : day of week and hour of day together"
   ]
  },
  {
   "cell_type": "code",
   "execution_count": 33,
   "id": "42499457",
   "metadata": {},
   "outputs": [
    {
     "data": {
      "text/html": [
       "<div>\n",
       "<style scoped>\n",
       "    .dataframe tbody tr th:only-of-type {\n",
       "        vertical-align: middle;\n",
       "    }\n",
       "\n",
       "    .dataframe tbody tr th {\n",
       "        vertical-align: top;\n",
       "    }\n",
       "\n",
       "    .dataframe thead th {\n",
       "        text-align: right;\n",
       "    }\n",
       "</style>\n",
       "<table border=\"1\" class=\"dataframe\">\n",
       "  <thead>\n",
       "    <tr style=\"text-align: right;\">\n",
       "      <th></th>\n",
       "      <th></th>\n",
       "      <th>trip_duration</th>\n",
       "    </tr>\n",
       "    <tr>\n",
       "      <th>day_of_week</th>\n",
       "      <th>hour_of_day</th>\n",
       "      <th></th>\n",
       "    </tr>\n",
       "  </thead>\n",
       "  <tbody>\n",
       "    <tr>\n",
       "      <th rowspan=\"5\" valign=\"top\">0</th>\n",
       "      <th>0</th>\n",
       "      <td>857.864624</td>\n",
       "    </tr>\n",
       "    <tr>\n",
       "      <th>1</th>\n",
       "      <td>848.960695</td>\n",
       "    </tr>\n",
       "    <tr>\n",
       "      <th>2</th>\n",
       "      <td>799.703533</td>\n",
       "    </tr>\n",
       "    <tr>\n",
       "      <th>3</th>\n",
       "      <td>748.451485</td>\n",
       "    </tr>\n",
       "    <tr>\n",
       "      <th>4</th>\n",
       "      <td>890.000000</td>\n",
       "    </tr>\n",
       "    <tr>\n",
       "      <th>...</th>\n",
       "      <th>...</th>\n",
       "      <td>...</td>\n",
       "    </tr>\n",
       "    <tr>\n",
       "      <th rowspan=\"5\" valign=\"top\">6</th>\n",
       "      <th>19</th>\n",
       "      <td>902.853529</td>\n",
       "    </tr>\n",
       "    <tr>\n",
       "      <th>20</th>\n",
       "      <td>864.932558</td>\n",
       "    </tr>\n",
       "    <tr>\n",
       "      <th>21</th>\n",
       "      <td>809.904430</td>\n",
       "    </tr>\n",
       "    <tr>\n",
       "      <th>22</th>\n",
       "      <td>897.251946</td>\n",
       "    </tr>\n",
       "    <tr>\n",
       "      <th>23</th>\n",
       "      <td>795.720992</td>\n",
       "    </tr>\n",
       "  </tbody>\n",
       "</table>\n",
       "<p>168 rows × 1 columns</p>\n",
       "</div>"
      ],
      "text/plain": [
       "                         trip_duration\n",
       "day_of_week hour_of_day               \n",
       "0           0               857.864624\n",
       "            1               848.960695\n",
       "            2               799.703533\n",
       "            3               748.451485\n",
       "            4               890.000000\n",
       "...                                ...\n",
       "6           19              902.853529\n",
       "            20              864.932558\n",
       "            21              809.904430\n",
       "            22              897.251946\n",
       "            23              795.720992\n",
       "\n",
       "[168 rows x 1 columns]"
      ]
     },
     "execution_count": 33,
     "metadata": {},
     "output_type": "execute_result"
    }
   ],
   "source": [
    "#creating pivot table for day of week , hour of day and corresponding trip duration\n",
    "combo = pd.pivot_table(train, values = 'trip_duration', index = ['day_of_week','hour_of_day'], aggfunc = np.mean)\n",
    "combo"
   ]
  },
  {
   "cell_type": "code",
   "execution_count": 34,
   "id": "e0cc6c3d",
   "metadata": {},
   "outputs": [],
   "source": [
    "#iterate through each day of week and then hour of day to calcualte mean\n",
    "test['mean_combo'] = 0\n",
    "\n",
    "a1 = 'day_of_week'\n",
    "a2 = 'hour_of_day'\n",
    "\n",
    "for i in test[a1].unique():\n",
    "    for j in test[a2].unique():\n",
    "        test['mean_combo'][(test[a1] ==i) & (test[a2] == j)] = train['trip_duration'][(train[a1]==i) & (train[a2]==(j))].mean()"
   ]
  },
  {
   "cell_type": "code",
   "execution_count": 35,
   "id": "d7cf473f",
   "metadata": {},
   "outputs": [
    {
     "data": {
      "text/plain": [
       "619.2490529563537"
      ]
     },
     "execution_count": 35,
     "metadata": {},
     "output_type": "execute_result"
    }
   ],
   "source": [
    "#calculating mean absolute error w.r.t to day of week and hour of day\n",
    "mean_combo_error = MAE(test['trip_duration'] , test['mean_combo'] )\n",
    "mean_combo_error"
   ]
  },
  {
   "cell_type": "markdown",
   "id": "fc86d63b",
   "metadata": {},
   "source": [
    "By building basic pedictive model we get the lowest mean error by using two variables day of week and hour of day w.r.t trip duration."
   ]
  },
  {
   "cell_type": "markdown",
   "id": "6f561811",
   "metadata": {},
   "source": [
    "# 3. Build KNN model"
   ]
  },
  {
   "cell_type": "code",
   "execution_count": 36,
   "id": "6b636554",
   "metadata": {},
   "outputs": [],
   "source": [
    "#Import required libraries\n",
    "import pandas as pd  \n",
    "import numpy as np\n",
    "import matplotlib.pyplot as plt\n",
    "%matplotlib inline\n",
    "\n",
    "import warnings\n",
    "warnings.filterwarnings(\"ignore\")"
   ]
  },
  {
   "cell_type": "code",
   "execution_count": 37,
   "id": "6950672f",
   "metadata": {},
   "outputs": [],
   "source": [
    "#Read the data set using pandas \n",
    "#As data set is large the models are taking too much time to run so we will we will take part of data set out of the main data.\n",
    "data = pd.read_csv(r'C:\\Users\\bhawna bhatti\\Downloads\\nyc_taxi_trip_duration.csv',nrows=50000)"
   ]
  },
  {
   "cell_type": "code",
   "execution_count": 38,
   "id": "e5639831",
   "metadata": {},
   "outputs": [
    {
     "data": {
      "text/html": [
       "<div>\n",
       "<style scoped>\n",
       "    .dataframe tbody tr th:only-of-type {\n",
       "        vertical-align: middle;\n",
       "    }\n",
       "\n",
       "    .dataframe tbody tr th {\n",
       "        vertical-align: top;\n",
       "    }\n",
       "\n",
       "    .dataframe thead th {\n",
       "        text-align: right;\n",
       "    }\n",
       "</style>\n",
       "<table border=\"1\" class=\"dataframe\">\n",
       "  <thead>\n",
       "    <tr style=\"text-align: right;\">\n",
       "      <th></th>\n",
       "      <th>id</th>\n",
       "      <th>vendor_id</th>\n",
       "      <th>pickup_datetime</th>\n",
       "      <th>dropoff_datetime</th>\n",
       "      <th>passenger_count</th>\n",
       "      <th>pickup_longitude</th>\n",
       "      <th>pickup_latitude</th>\n",
       "      <th>dropoff_longitude</th>\n",
       "      <th>dropoff_latitude</th>\n",
       "      <th>store_and_fwd_flag</th>\n",
       "      <th>trip_duration</th>\n",
       "    </tr>\n",
       "  </thead>\n",
       "  <tbody>\n",
       "    <tr>\n",
       "      <th>0</th>\n",
       "      <td>id1080784</td>\n",
       "      <td>2</td>\n",
       "      <td>2016-02-29 16:40:21</td>\n",
       "      <td>2016-02-29 16:47:01</td>\n",
       "      <td>1</td>\n",
       "      <td>-73.953918</td>\n",
       "      <td>40.778873</td>\n",
       "      <td>-73.963875</td>\n",
       "      <td>40.771164</td>\n",
       "      <td>N</td>\n",
       "      <td>400</td>\n",
       "    </tr>\n",
       "    <tr>\n",
       "      <th>1</th>\n",
       "      <td>id0889885</td>\n",
       "      <td>1</td>\n",
       "      <td>2016-03-11 23:35:37</td>\n",
       "      <td>2016-03-11 23:53:57</td>\n",
       "      <td>2</td>\n",
       "      <td>-73.988312</td>\n",
       "      <td>40.731743</td>\n",
       "      <td>-73.994751</td>\n",
       "      <td>40.694931</td>\n",
       "      <td>N</td>\n",
       "      <td>1100</td>\n",
       "    </tr>\n",
       "    <tr>\n",
       "      <th>2</th>\n",
       "      <td>id0857912</td>\n",
       "      <td>2</td>\n",
       "      <td>2016-02-21 17:59:33</td>\n",
       "      <td>2016-02-21 18:26:48</td>\n",
       "      <td>2</td>\n",
       "      <td>-73.997314</td>\n",
       "      <td>40.721458</td>\n",
       "      <td>-73.948029</td>\n",
       "      <td>40.774918</td>\n",
       "      <td>N</td>\n",
       "      <td>1635</td>\n",
       "    </tr>\n",
       "    <tr>\n",
       "      <th>3</th>\n",
       "      <td>id3744273</td>\n",
       "      <td>2</td>\n",
       "      <td>2016-01-05 09:44:31</td>\n",
       "      <td>2016-01-05 10:03:32</td>\n",
       "      <td>6</td>\n",
       "      <td>-73.961670</td>\n",
       "      <td>40.759720</td>\n",
       "      <td>-73.956779</td>\n",
       "      <td>40.780628</td>\n",
       "      <td>N</td>\n",
       "      <td>1141</td>\n",
       "    </tr>\n",
       "    <tr>\n",
       "      <th>4</th>\n",
       "      <td>id0232939</td>\n",
       "      <td>1</td>\n",
       "      <td>2016-02-17 06:42:23</td>\n",
       "      <td>2016-02-17 06:56:31</td>\n",
       "      <td>1</td>\n",
       "      <td>-74.017120</td>\n",
       "      <td>40.708469</td>\n",
       "      <td>-73.988182</td>\n",
       "      <td>40.740631</td>\n",
       "      <td>N</td>\n",
       "      <td>848</td>\n",
       "    </tr>\n",
       "  </tbody>\n",
       "</table>\n",
       "</div>"
      ],
      "text/plain": [
       "          id  vendor_id      pickup_datetime     dropoff_datetime  \\\n",
       "0  id1080784          2  2016-02-29 16:40:21  2016-02-29 16:47:01   \n",
       "1  id0889885          1  2016-03-11 23:35:37  2016-03-11 23:53:57   \n",
       "2  id0857912          2  2016-02-21 17:59:33  2016-02-21 18:26:48   \n",
       "3  id3744273          2  2016-01-05 09:44:31  2016-01-05 10:03:32   \n",
       "4  id0232939          1  2016-02-17 06:42:23  2016-02-17 06:56:31   \n",
       "\n",
       "   passenger_count  pickup_longitude  pickup_latitude  dropoff_longitude  \\\n",
       "0                1        -73.953918        40.778873         -73.963875   \n",
       "1                2        -73.988312        40.731743         -73.994751   \n",
       "2                2        -73.997314        40.721458         -73.948029   \n",
       "3                6        -73.961670        40.759720         -73.956779   \n",
       "4                1        -74.017120        40.708469         -73.988182   \n",
       "\n",
       "   dropoff_latitude store_and_fwd_flag  trip_duration  \n",
       "0         40.771164                  N            400  \n",
       "1         40.694931                  N           1100  \n",
       "2         40.774918                  N           1635  \n",
       "3         40.780628                  N           1141  \n",
       "4         40.740631                  N            848  "
      ]
     },
     "execution_count": 38,
     "metadata": {},
     "output_type": "execute_result"
    }
   ],
   "source": [
    "data.head()"
   ]
  },
  {
   "cell_type": "code",
   "execution_count": 39,
   "id": "377cd021",
   "metadata": {},
   "outputs": [
    {
     "data": {
      "text/plain": [
       "(50000, 11)"
      ]
     },
     "execution_count": 39,
     "metadata": {},
     "output_type": "execute_result"
    }
   ],
   "source": [
    "data.shape"
   ]
  },
  {
   "cell_type": "code",
   "execution_count": 40,
   "id": "2f436c5a",
   "metadata": {},
   "outputs": [
    {
     "data": {
      "text/plain": [
       "id                     object\n",
       "vendor_id               int64\n",
       "pickup_datetime        object\n",
       "dropoff_datetime       object\n",
       "passenger_count         int64\n",
       "pickup_longitude      float64\n",
       "pickup_latitude       float64\n",
       "dropoff_longitude     float64\n",
       "dropoff_latitude      float64\n",
       "store_and_fwd_flag     object\n",
       "trip_duration           int64\n",
       "dtype: object"
      ]
     },
     "execution_count": 40,
     "metadata": {},
     "output_type": "execute_result"
    }
   ],
   "source": [
    "data.dtypes"
   ]
  },
  {
   "cell_type": "code",
   "execution_count": 41,
   "id": "761024c3",
   "metadata": {},
   "outputs": [],
   "source": [
    "# convert dtype of pickup and dropoff to datetime\n",
    "data['pickup_datetime'] = pd.to_datetime(data['pickup_datetime'])\n",
    "data['dropoff_datetime'] = pd.to_datetime(data['dropoff_datetime'])"
   ]
  },
  {
   "cell_type": "code",
   "execution_count": 42,
   "id": "0a4b3e4e",
   "metadata": {},
   "outputs": [],
   "source": [
    "#extract day of week and hour of day from pickup time\n",
    "import datetime as dt\n",
    "data['day_of_week'] = data['pickup_datetime'].dt.weekday\n",
    "data['hour_of_day'] = data['pickup_datetime'].dt.hour"
   ]
  },
  {
   "cell_type": "code",
   "execution_count": 43,
   "id": "8b73adc6",
   "metadata": {},
   "outputs": [],
   "source": [
    "#dtype of vendor_id to category as we need to create 0 and 1 value for it later\n",
    "data['vendor_id'] = data['vendor_id'].astype('category')"
   ]
  },
  {
   "cell_type": "markdown",
   "id": "cef6eb58",
   "metadata": {},
   "source": [
    "Outlier detection and removal"
   ]
  },
  {
   "cell_type": "code",
   "execution_count": 44,
   "id": "f976fc36",
   "metadata": {},
   "outputs": [
    {
     "data": {
      "text/plain": [
       "<AxesSubplot:>"
      ]
     },
     "execution_count": 44,
     "metadata": {},
     "output_type": "execute_result"
    },
    {
     "data": {
      "image/png": "[encoded data removed]",
      "text/plain": [
       "<Figure size 432x288 with 1 Axes>"
      ]
     },
     "metadata": {
      "needs_background": "light"
     },
     "output_type": "display_data"
    }
   ],
   "source": [
    "#boxplot to look for ouliers\n",
    "data.boxplot(column = ['trip_duration'])"
   ]
  },
  {
   "cell_type": "code",
   "execution_count": 45,
   "id": "b120b870",
   "metadata": {},
   "outputs": [],
   "source": [
    "#taking the log value as value of the target varibale spans a large range. \n",
    "data['log_trip_duration'] = np.log(data['trip_duration'].values + 1)\n",
    "data['log_trip_duration'] = data['log_trip_duration'].astype('float16')"
   ]
  },
  {
   "cell_type": "code",
   "execution_count": 46,
   "id": "05231667",
   "metadata": {},
   "outputs": [
    {
     "data": {
      "image/png": "[encoded data removed]",
      "text/plain": [
       "<Figure size 432x288 with 1 Axes>"
      ]
     },
     "metadata": {
      "needs_background": "light"
     },
     "output_type": "display_data"
    }
   ],
   "source": [
    "data.boxplot(column = ['log_trip_duration'])\n",
    "plt.show()"
   ]
  },
  {
   "cell_type": "markdown",
   "id": "bf245c7f",
   "metadata": {},
   "source": [
    "In the above box plot we can see the values in the wisker region which are ouliers so we will remove them."
   ]
  },
  {
   "cell_type": "code",
   "execution_count": 47,
   "id": "da836401",
   "metadata": {},
   "outputs": [],
   "source": [
    "#removing the ouliers\n",
    "data = data.loc[(data.log_trip_duration > 4.59) & (data.log_trip_duration < 8.25)]"
   ]
  },
  {
   "cell_type": "code",
   "execution_count": 48,
   "id": "dd6647ec",
   "metadata": {},
   "outputs": [
    {
     "data": {
      "image/png": "[encoded data removed]",
      "text/plain": [
       "<Figure size 432x288 with 1 Axes>"
      ]
     },
     "metadata": {
      "needs_background": "light"
     },
     "output_type": "display_data"
    }
   ],
   "source": [
    "# plot after removing outliers\n",
    "data.boxplot(column = ['log_trip_duration'])\n",
    "plt.show()"
   ]
  },
  {
   "cell_type": "code",
   "execution_count": 49,
   "id": "24e9d463",
   "metadata": {},
   "outputs": [
    {
     "data": {
      "text/plain": [
       "id                            object\n",
       "vendor_id                   category\n",
       "pickup_datetime       datetime64[ns]\n",
       "dropoff_datetime      datetime64[ns]\n",
       "passenger_count                int64\n",
       "pickup_longitude             float64\n",
       "pickup_latitude              float64\n",
       "dropoff_longitude            float64\n",
       "dropoff_latitude             float64\n",
       "store_and_fwd_flag            object\n",
       "trip_duration                  int64\n",
       "day_of_week                    int64\n",
       "hour_of_day                    int64\n",
       "log_trip_duration            float16\n",
       "dtype: object"
      ]
     },
     "execution_count": 49,
     "metadata": {},
     "output_type": "execute_result"
    }
   ],
   "source": [
    "data.dtypes"
   ]
  },
  {
   "cell_type": "code",
   "execution_count": 50,
   "id": "805bd148",
   "metadata": {},
   "outputs": [],
   "source": [
    "#we will drop the colums which we don't require and give 0 1 value to categorical dtypes\n",
    "data=pd.get_dummies(data.drop(['trip_duration','pickup_datetime', 'dropoff_datetime', 'id'], axis = 1))"
   ]
  },
  {
   "cell_type": "code",
   "execution_count": 51,
   "id": "c4a71909",
   "metadata": {
    "scrolled": true
   },
   "outputs": [
    {
     "data": {
      "text/html": [
       "<div>\n",
       "<style scoped>\n",
       "    .dataframe tbody tr th:only-of-type {\n",
       "        vertical-align: middle;\n",
       "    }\n",
       "\n",
       "    .dataframe tbody tr th {\n",
       "        vertical-align: top;\n",
       "    }\n",
       "\n",
       "    .dataframe thead th {\n",
       "        text-align: right;\n",
       "    }\n",
       "</style>\n",
       "<table border=\"1\" class=\"dataframe\">\n",
       "  <thead>\n",
       "    <tr style=\"text-align: right;\">\n",
       "      <th></th>\n",
       "      <th>passenger_count</th>\n",
       "      <th>pickup_longitude</th>\n",
       "      <th>pickup_latitude</th>\n",
       "      <th>dropoff_longitude</th>\n",
       "      <th>dropoff_latitude</th>\n",
       "      <th>day_of_week</th>\n",
       "      <th>hour_of_day</th>\n",
       "      <th>log_trip_duration</th>\n",
       "      <th>vendor_id_1</th>\n",
       "      <th>vendor_id_2</th>\n",
       "      <th>store_and_fwd_flag_N</th>\n",
       "      <th>store_and_fwd_flag_Y</th>\n",
       "    </tr>\n",
       "  </thead>\n",
       "  <tbody>\n",
       "    <tr>\n",
       "      <th>0</th>\n",
       "      <td>1</td>\n",
       "      <td>-73.953918</td>\n",
       "      <td>40.778873</td>\n",
       "      <td>-73.963875</td>\n",
       "      <td>40.771164</td>\n",
       "      <td>0</td>\n",
       "      <td>16</td>\n",
       "      <td>5.992188</td>\n",
       "      <td>0</td>\n",
       "      <td>1</td>\n",
       "      <td>1</td>\n",
       "      <td>0</td>\n",
       "    </tr>\n",
       "    <tr>\n",
       "      <th>1</th>\n",
       "      <td>2</td>\n",
       "      <td>-73.988312</td>\n",
       "      <td>40.731743</td>\n",
       "      <td>-73.994751</td>\n",
       "      <td>40.694931</td>\n",
       "      <td>4</td>\n",
       "      <td>23</td>\n",
       "      <td>7.003906</td>\n",
       "      <td>1</td>\n",
       "      <td>0</td>\n",
       "      <td>1</td>\n",
       "      <td>0</td>\n",
       "    </tr>\n",
       "    <tr>\n",
       "      <th>2</th>\n",
       "      <td>2</td>\n",
       "      <td>-73.997314</td>\n",
       "      <td>40.721458</td>\n",
       "      <td>-73.948029</td>\n",
       "      <td>40.774918</td>\n",
       "      <td>6</td>\n",
       "      <td>17</td>\n",
       "      <td>7.398438</td>\n",
       "      <td>0</td>\n",
       "      <td>1</td>\n",
       "      <td>1</td>\n",
       "      <td>0</td>\n",
       "    </tr>\n",
       "    <tr>\n",
       "      <th>3</th>\n",
       "      <td>6</td>\n",
       "      <td>-73.961670</td>\n",
       "      <td>40.759720</td>\n",
       "      <td>-73.956779</td>\n",
       "      <td>40.780628</td>\n",
       "      <td>1</td>\n",
       "      <td>9</td>\n",
       "      <td>7.039062</td>\n",
       "      <td>0</td>\n",
       "      <td>1</td>\n",
       "      <td>1</td>\n",
       "      <td>0</td>\n",
       "    </tr>\n",
       "    <tr>\n",
       "      <th>4</th>\n",
       "      <td>1</td>\n",
       "      <td>-74.017120</td>\n",
       "      <td>40.708469</td>\n",
       "      <td>-73.988182</td>\n",
       "      <td>40.740631</td>\n",
       "      <td>2</td>\n",
       "      <td>6</td>\n",
       "      <td>6.742188</td>\n",
       "      <td>1</td>\n",
       "      <td>0</td>\n",
       "      <td>1</td>\n",
       "      <td>0</td>\n",
       "    </tr>\n",
       "  </tbody>\n",
       "</table>\n",
       "</div>"
      ],
      "text/plain": [
       "   passenger_count  pickup_longitude  pickup_latitude  dropoff_longitude  \\\n",
       "0                1        -73.953918        40.778873         -73.963875   \n",
       "1                2        -73.988312        40.731743         -73.994751   \n",
       "2                2        -73.997314        40.721458         -73.948029   \n",
       "3                6        -73.961670        40.759720         -73.956779   \n",
       "4                1        -74.017120        40.708469         -73.988182   \n",
       "\n",
       "   dropoff_latitude  day_of_week  hour_of_day  log_trip_duration  vendor_id_1  \\\n",
       "0         40.771164            0           16           5.992188            0   \n",
       "1         40.694931            4           23           7.003906            1   \n",
       "2         40.774918            6           17           7.398438            0   \n",
       "3         40.780628            1            9           7.039062            0   \n",
       "4         40.740631            2            6           6.742188            1   \n",
       "\n",
       "   vendor_id_2  store_and_fwd_flag_N  store_and_fwd_flag_Y  \n",
       "0            1                     1                     0  \n",
       "1            0                     1                     0  \n",
       "2            1                     1                     0  \n",
       "3            1                     1                     0  \n",
       "4            0                     1                     0  "
      ]
     },
     "execution_count": 51,
     "metadata": {},
     "output_type": "execute_result"
    }
   ],
   "source": [
    "data.head()"
   ]
  },
  {
   "cell_type": "code",
   "execution_count": 52,
   "id": "52761511",
   "metadata": {},
   "outputs": [
    {
     "data": {
      "image/png": "[encoded data removed]",
      "text/plain": [
       "<Figure size 720x720 with 4 Axes>"
      ]
     },
     "metadata": {},
     "output_type": "display_data"
    }
   ],
   "source": [
    "# Looking at the logitude and latitude values for pickup amd dropoff variables\n",
    "\n",
    "import seaborn as sns \n",
    "\n",
    "sns.set(style=\"white\", palette=\"muted\")\n",
    "f, axes = plt.subplots(nrows = 2, ncols = 2, figsize=(10, 10), sharex = False, sharey = False)\n",
    "sns.distplot(data['pickup_latitude'].values, label = 'pickup_latitude', color=\"green\", bins = 100, ax=axes[0,0])\n",
    "sns.distplot(data['pickup_longitude'].values, label = 'pickup_longitude', color=\"red\", bins =100, ax=axes[1,0])\n",
    "sns.distplot(data['dropoff_latitude'].values, label = 'dropoff_latitude', color=\"blue\", bins =100, ax=axes[0,1])\n",
    "sns.distplot(data['dropoff_longitude'].values, label = 'dropoff_longitude', color=\"orange\", bins =100, ax=axes[1,1])\n",
    "plt.show()"
   ]
  },
  {
   "cell_type": "markdown",
   "id": "02fe878e",
   "metadata": {},
   "source": [
    "The samll peaks in the above graph represents ouliers so we will remove them."
   ]
  },
  {
   "cell_type": "code",
   "execution_count": 53,
   "id": "529f086e",
   "metadata": {},
   "outputs": [],
   "source": [
    "# Removing Outliers\n",
    "\n",
    "data = data.loc[(data.pickup_latitude > 40.70) & (data.pickup_latitude < 40.80)]\n",
    "data = data.loc[(data.dropoff_latitude>40.70) & (data.dropoff_latitude < 40.80)]\n",
    "data = data.loc[(data.pickup_longitude > -74.05) & (data.pickup_longitude < -73.95)]\n",
    "data = data.loc[(data.dropoff_longitude > -74.05) & (data.dropoff_longitude < -73.95)]"
   ]
  },
  {
   "cell_type": "code",
   "execution_count": 54,
   "id": "537385b3",
   "metadata": {},
   "outputs": [
    {
     "data": {
      "image/png": "[encoded data removed]",
      "text/plain": [
       "<Figure size 720x720 with 4 Axes>"
      ]
     },
     "metadata": {},
     "output_type": "display_data"
    }
   ],
   "source": [
    "# Visualisation after removing outliers\n",
    "\n",
    "sns.set(style=\"white\", palette=\"muted\")\n",
    "f, axes = plt.subplots(2,2,figsize=(10, 10), sharex=False, sharey = False)\n",
    "sns.distplot(data['pickup_latitude'].values, label = 'pickup_latitude',color=\"green\",bins = 100, ax=axes[0, 0])\n",
    "sns.distplot(data['pickup_longitude'].values, label = 'pickup_longitude',color=\"red\",bins =100, ax=axes[1, 0])\n",
    "sns.distplot(data['dropoff_latitude'].values, label = 'dropoff_latitude',color=\"blue\",bins =100, ax=axes[0, 1])\n",
    "sns.distplot(data['dropoff_longitude'].values, label = 'dropoff_longitude',color=\"orange\",bins =100, ax=axes[1, 1])\n",
    "plt.show()"
   ]
  },
  {
   "cell_type": "markdown",
   "id": "4171cc8c",
   "metadata": {},
   "source": [
    "Segregating variables: Independent and Dependent variables"
   ]
  },
  {
   "cell_type": "code",
   "execution_count": 55,
   "id": "d1a51ee3",
   "metadata": {},
   "outputs": [],
   "source": [
    "x = data.drop(['log_trip_duration'], axis = 1)\n",
    "y = data['log_trip_duration']"
   ]
  },
  {
   "cell_type": "code",
   "execution_count": 56,
   "id": "e461d04d",
   "metadata": {},
   "outputs": [
    {
     "data": {
      "text/plain": [
       "(38172, 11)"
      ]
     },
     "execution_count": 56,
     "metadata": {},
     "output_type": "execute_result"
    }
   ],
   "source": [
    "x.shape"
   ]
  },
  {
   "cell_type": "code",
   "execution_count": 57,
   "id": "c68d44a4",
   "metadata": {},
   "outputs": [
    {
     "data": {
      "text/plain": [
       "(38172,)"
      ]
     },
     "execution_count": 57,
     "metadata": {},
     "output_type": "execute_result"
    }
   ],
   "source": [
    "y.shape"
   ]
  },
  {
   "cell_type": "code",
   "execution_count": 58,
   "id": "540ec3d7",
   "metadata": {},
   "outputs": [],
   "source": [
    "#Scaling the data\n",
    "from sklearn.preprocessing import MinMaxScaler\n",
    "scaler = MinMaxScaler()\n",
    "x_scaled = scaler.fit_transform(x)"
   ]
  },
  {
   "cell_type": "code",
   "execution_count": 59,
   "id": "b468d4ea",
   "metadata": {},
   "outputs": [
    {
     "data": {
      "text/plain": [
       "passenger_count           int64\n",
       "pickup_longitude        float64\n",
       "pickup_latitude         float64\n",
       "dropoff_longitude       float64\n",
       "dropoff_latitude        float64\n",
       "day_of_week               int64\n",
       "hour_of_day               int64\n",
       "log_trip_duration       float16\n",
       "vendor_id_1               uint8\n",
       "vendor_id_2               uint8\n",
       "store_and_fwd_flag_N      uint8\n",
       "store_and_fwd_flag_Y      uint8\n",
       "dtype: object"
      ]
     },
     "execution_count": 59,
     "metadata": {},
     "output_type": "execute_result"
    }
   ],
   "source": [
    "data.dtypes"
   ]
  },
  {
   "cell_type": "code",
   "execution_count": 60,
   "id": "3cbcdc48",
   "metadata": {},
   "outputs": [
    {
     "data": {
      "text/html": [
       "<div>\n",
       "<style scoped>\n",
       "    .dataframe tbody tr th:only-of-type {\n",
       "        vertical-align: middle;\n",
       "    }\n",
       "\n",
       "    .dataframe tbody tr th {\n",
       "        vertical-align: top;\n",
       "    }\n",
       "\n",
       "    .dataframe thead th {\n",
       "        text-align: right;\n",
       "    }\n",
       "</style>\n",
       "<table border=\"1\" class=\"dataframe\">\n",
       "  <thead>\n",
       "    <tr style=\"text-align: right;\">\n",
       "      <th></th>\n",
       "      <th>passenger_count</th>\n",
       "      <th>pickup_longitude</th>\n",
       "      <th>pickup_latitude</th>\n",
       "      <th>dropoff_longitude</th>\n",
       "      <th>dropoff_latitude</th>\n",
       "      <th>day_of_week</th>\n",
       "      <th>hour_of_day</th>\n",
       "      <th>vendor_id_1</th>\n",
       "      <th>vendor_id_2</th>\n",
       "      <th>store_and_fwd_flag_N</th>\n",
       "      <th>store_and_fwd_flag_Y</th>\n",
       "    </tr>\n",
       "  </thead>\n",
       "  <tbody>\n",
       "    <tr>\n",
       "      <th>0</th>\n",
       "      <td>0.166667</td>\n",
       "      <td>0.956176</td>\n",
       "      <td>0.788686</td>\n",
       "      <td>0.850698</td>\n",
       "      <td>0.712474</td>\n",
       "      <td>0.000000</td>\n",
       "      <td>0.695652</td>\n",
       "      <td>0.0</td>\n",
       "      <td>1.0</td>\n",
       "      <td>1.0</td>\n",
       "      <td>0.0</td>\n",
       "    </tr>\n",
       "    <tr>\n",
       "      <th>1</th>\n",
       "      <td>1.000000</td>\n",
       "      <td>0.869383</td>\n",
       "      <td>0.596891</td>\n",
       "      <td>0.927116</td>\n",
       "      <td>0.807234</td>\n",
       "      <td>0.166667</td>\n",
       "      <td>0.391304</td>\n",
       "      <td>0.0</td>\n",
       "      <td>1.0</td>\n",
       "      <td>1.0</td>\n",
       "      <td>0.0</td>\n",
       "    </tr>\n",
       "    <tr>\n",
       "      <th>2</th>\n",
       "      <td>0.166667</td>\n",
       "      <td>0.248505</td>\n",
       "      <td>0.083693</td>\n",
       "      <td>0.588907</td>\n",
       "      <td>0.406768</td>\n",
       "      <td>0.333333</td>\n",
       "      <td>0.260870</td>\n",
       "      <td>1.0</td>\n",
       "      <td>0.0</td>\n",
       "      <td>1.0</td>\n",
       "      <td>0.0</td>\n",
       "    </tr>\n",
       "    <tr>\n",
       "      <th>3</th>\n",
       "      <td>0.333333</td>\n",
       "      <td>0.511703</td>\n",
       "      <td>0.518431</td>\n",
       "      <td>0.510929</td>\n",
       "      <td>0.238866</td>\n",
       "      <td>1.000000</td>\n",
       "      <td>0.782609</td>\n",
       "      <td>0.0</td>\n",
       "      <td>1.0</td>\n",
       "      <td>1.0</td>\n",
       "      <td>0.0</td>\n",
       "    </tr>\n",
       "    <tr>\n",
       "      <th>4</th>\n",
       "      <td>0.166667</td>\n",
       "      <td>0.831198</td>\n",
       "      <td>0.588831</td>\n",
       "      <td>0.711422</td>\n",
       "      <td>0.641815</td>\n",
       "      <td>0.333333</td>\n",
       "      <td>0.869565</td>\n",
       "      <td>1.0</td>\n",
       "      <td>0.0</td>\n",
       "      <td>1.0</td>\n",
       "      <td>0.0</td>\n",
       "    </tr>\n",
       "  </tbody>\n",
       "</table>\n",
       "</div>"
      ],
      "text/plain": [
       "   passenger_count  pickup_longitude  pickup_latitude  dropoff_longitude  \\\n",
       "0         0.166667          0.956176         0.788686           0.850698   \n",
       "1         1.000000          0.869383         0.596891           0.927116   \n",
       "2         0.166667          0.248505         0.083693           0.588907   \n",
       "3         0.333333          0.511703         0.518431           0.510929   \n",
       "4         0.166667          0.831198         0.588831           0.711422   \n",
       "\n",
       "   dropoff_latitude  day_of_week  hour_of_day  vendor_id_1  vendor_id_2  \\\n",
       "0          0.712474     0.000000     0.695652          0.0          1.0   \n",
       "1          0.807234     0.166667     0.391304          0.0          1.0   \n",
       "2          0.406768     0.333333     0.260870          1.0          0.0   \n",
       "3          0.238866     1.000000     0.782609          0.0          1.0   \n",
       "4          0.641815     0.333333     0.869565          1.0          0.0   \n",
       "\n",
       "   store_and_fwd_flag_N  store_and_fwd_flag_Y  \n",
       "0                   1.0                   0.0  \n",
       "1                   1.0                   0.0  \n",
       "2                   1.0                   0.0  \n",
       "3                   1.0                   0.0  \n",
       "4                   1.0                   0.0  "
      ]
     },
     "execution_count": 60,
     "metadata": {},
     "output_type": "execute_result"
    }
   ],
   "source": [
    "x = pd.DataFrame(x_scaled, columns = x.columns)\n",
    "x.head()"
   ]
  },
  {
   "cell_type": "code",
   "execution_count": 61,
   "id": "4f67dc82",
   "metadata": {},
   "outputs": [
    {
     "data": {
      "text/html": [
       "<div>\n",
       "<style scoped>\n",
       "    .dataframe tbody tr th:only-of-type {\n",
       "        vertical-align: middle;\n",
       "    }\n",
       "\n",
       "    .dataframe tbody tr th {\n",
       "        vertical-align: top;\n",
       "    }\n",
       "\n",
       "    .dataframe thead th {\n",
       "        text-align: right;\n",
       "    }\n",
       "</style>\n",
       "<table border=\"1\" class=\"dataframe\">\n",
       "  <thead>\n",
       "    <tr style=\"text-align: right;\">\n",
       "      <th></th>\n",
       "      <th>passenger_count</th>\n",
       "      <th>pickup_longitude</th>\n",
       "      <th>pickup_latitude</th>\n",
       "      <th>dropoff_longitude</th>\n",
       "      <th>dropoff_latitude</th>\n",
       "      <th>day_of_week</th>\n",
       "      <th>hour_of_day</th>\n",
       "      <th>vendor_id_1</th>\n",
       "      <th>vendor_id_2</th>\n",
       "      <th>store_and_fwd_flag_N</th>\n",
       "      <th>store_and_fwd_flag_Y</th>\n",
       "    </tr>\n",
       "  </thead>\n",
       "  <tbody>\n",
       "    <tr>\n",
       "      <th>0</th>\n",
       "      <td>0.166667</td>\n",
       "      <td>0.956176</td>\n",
       "      <td>0.788686</td>\n",
       "      <td>0.850698</td>\n",
       "      <td>0.712474</td>\n",
       "      <td>0.000000</td>\n",
       "      <td>0.695652</td>\n",
       "      <td>0.0</td>\n",
       "      <td>1.0</td>\n",
       "      <td>1.0</td>\n",
       "      <td>0.0</td>\n",
       "    </tr>\n",
       "    <tr>\n",
       "      <th>1</th>\n",
       "      <td>1.000000</td>\n",
       "      <td>0.869383</td>\n",
       "      <td>0.596891</td>\n",
       "      <td>0.927116</td>\n",
       "      <td>0.807234</td>\n",
       "      <td>0.166667</td>\n",
       "      <td>0.391304</td>\n",
       "      <td>0.0</td>\n",
       "      <td>1.0</td>\n",
       "      <td>1.0</td>\n",
       "      <td>0.0</td>\n",
       "    </tr>\n",
       "    <tr>\n",
       "      <th>2</th>\n",
       "      <td>0.166667</td>\n",
       "      <td>0.248505</td>\n",
       "      <td>0.083693</td>\n",
       "      <td>0.588907</td>\n",
       "      <td>0.406768</td>\n",
       "      <td>0.333333</td>\n",
       "      <td>0.260870</td>\n",
       "      <td>1.0</td>\n",
       "      <td>0.0</td>\n",
       "      <td>1.0</td>\n",
       "      <td>0.0</td>\n",
       "    </tr>\n",
       "    <tr>\n",
       "      <th>3</th>\n",
       "      <td>0.333333</td>\n",
       "      <td>0.511703</td>\n",
       "      <td>0.518431</td>\n",
       "      <td>0.510929</td>\n",
       "      <td>0.238866</td>\n",
       "      <td>1.000000</td>\n",
       "      <td>0.782609</td>\n",
       "      <td>0.0</td>\n",
       "      <td>1.0</td>\n",
       "      <td>1.0</td>\n",
       "      <td>0.0</td>\n",
       "    </tr>\n",
       "    <tr>\n",
       "      <th>4</th>\n",
       "      <td>0.166667</td>\n",
       "      <td>0.831198</td>\n",
       "      <td>0.588831</td>\n",
       "      <td>0.711422</td>\n",
       "      <td>0.641815</td>\n",
       "      <td>0.333333</td>\n",
       "      <td>0.869565</td>\n",
       "      <td>1.0</td>\n",
       "      <td>0.0</td>\n",
       "      <td>1.0</td>\n",
       "      <td>0.0</td>\n",
       "    </tr>\n",
       "  </tbody>\n",
       "</table>\n",
       "</div>"
      ],
      "text/plain": [
       "   passenger_count  pickup_longitude  pickup_latitude  dropoff_longitude  \\\n",
       "0         0.166667          0.956176         0.788686           0.850698   \n",
       "1         1.000000          0.869383         0.596891           0.927116   \n",
       "2         0.166667          0.248505         0.083693           0.588907   \n",
       "3         0.333333          0.511703         0.518431           0.510929   \n",
       "4         0.166667          0.831198         0.588831           0.711422   \n",
       "\n",
       "   dropoff_latitude  day_of_week  hour_of_day  vendor_id_1  vendor_id_2  \\\n",
       "0          0.712474     0.000000     0.695652          0.0          1.0   \n",
       "1          0.807234     0.166667     0.391304          0.0          1.0   \n",
       "2          0.406768     0.333333     0.260870          1.0          0.0   \n",
       "3          0.238866     1.000000     0.782609          0.0          1.0   \n",
       "4          0.641815     0.333333     0.869565          1.0          0.0   \n",
       "\n",
       "   store_and_fwd_flag_N  store_and_fwd_flag_Y  \n",
       "0                   1.0                   0.0  \n",
       "1                   1.0                   0.0  \n",
       "2                   1.0                   0.0  \n",
       "3                   1.0                   0.0  \n",
       "4                   1.0                   0.0  "
      ]
     },
     "execution_count": 61,
     "metadata": {},
     "output_type": "execute_result"
    }
   ],
   "source": [
    "x.head()"
   ]
  },
  {
   "cell_type": "code",
   "execution_count": 62,
   "id": "4cc9ba4f",
   "metadata": {},
   "outputs": [],
   "source": [
    "# Importing the train test split function\n",
    "from sklearn.model_selection import train_test_split\n",
    "train_x,test_x,train_y,test_y = train_test_split(x,y, random_state = 56)"
   ]
  },
  {
   "cell_type": "code",
   "execution_count": 63,
   "id": "a7d9a000",
   "metadata": {},
   "outputs": [],
   "source": [
    "#importing KNN regressor and metric mse\n",
    "\n",
    "from sklearn.neighbors import KNeighborsRegressor as KNN\n",
    "from sklearn.metrics import mean_squared_error as mse"
   ]
  },
  {
   "cell_type": "code",
   "execution_count": 64,
   "id": "54d9fa93",
   "metadata": {},
   "outputs": [],
   "source": [
    "def Elbow(K):\n",
    "  #initiating empty list\n",
    "    test_mse = []\n",
    "  \n",
    "  #training model for evey value of K\n",
    "    for i in K:\n",
    "        #Instance of KNN\n",
    "        reg = KNN(n_neighbors = i)\n",
    "        reg.fit(train_x, train_y)\n",
    "        #Appending mse value to empty list claculated using the predictions\n",
    "        tmp = reg.predict(test_x)\n",
    "        tmp = mse(tmp,test_y)\n",
    "        test_mse.append(tmp)\n",
    "    \n",
    "    return test_mse"
   ]
  },
  {
   "cell_type": "code",
   "execution_count": 65,
   "id": "346f3515",
   "metadata": {},
   "outputs": [
    {
     "data": {
      "text/plain": [
       "[0.3508,\n",
       " 0.2062,\n",
       " 0.2097,\n",
       " 0.2155,\n",
       " 0.2203,\n",
       " 0.2244,\n",
       " 0.2289,\n",
       " 0.2335,\n",
       " 0.2375,\n",
       " 0.2415,\n",
       " 0.245,\n",
       " 0.2482,\n",
       " 0.2515,\n",
       " 0.2542,\n",
       " 0.2568,\n",
       " 0.2595,\n",
       " 0.262,\n",
       " 0.2644,\n",
       " 0.2668,\n",
       " 0.269]"
      ]
     },
     "execution_count": 65,
     "metadata": {},
     "output_type": "execute_result"
    }
   ],
   "source": [
    "#Defining K range\n",
    "k = range(1,201,10)\n",
    "# calling above defined function\n",
    "test_score = Elbow(k)\n",
    "test_score"
   ]
  },
  {
   "cell_type": "code",
   "execution_count": 66,
   "id": "69dfdcaa",
   "metadata": {},
   "outputs": [
    {
     "data": {
      "text/plain": [
       "Text(0.5, 1.0, 'Elbow Curve for test')"
      ]
     },
     "execution_count": 66,
     "metadata": {},
     "output_type": "execute_result"
    },
    {
     "data": {
      "image/png": "[encoded data removed]",
      "text/plain": [
       "<Figure size 432x288 with 1 Axes>"
      ]
     },
     "metadata": {},
     "output_type": "display_data"
    }
   ],
   "source": [
    "# plotting the Curves\n",
    "plt.plot(k, test_score)\n",
    "plt.xlabel('K Neighbors')\n",
    "plt.ylabel('Test Mean Squared Error')\n",
    "plt.title('Elbow Curve for test')"
   ]
  },
  {
   "cell_type": "code",
   "execution_count": 67,
   "id": "bf3a5edc",
   "metadata": {},
   "outputs": [],
   "source": [
    "k = range(1,20)"
   ]
  },
  {
   "cell_type": "code",
   "execution_count": 68,
   "id": "ec233a51",
   "metadata": {},
   "outputs": [],
   "source": [
    "test_score_2 = Elbow(k)"
   ]
  },
  {
   "cell_type": "code",
   "execution_count": 69,
   "id": "e5345533",
   "metadata": {},
   "outputs": [
    {
     "data": {
      "text/plain": [
       "Text(0.5, 1.0, 'Elbow Curve for test_score_2')"
      ]
     },
     "execution_count": 69,
     "metadata": {},
     "output_type": "execute_result"
    },
    {
     "data": {
      "image/png": "[encoded data removed]",
      "text/plain": [
       "<Figure size 432x288 with 1 Axes>"
      ]
     },
     "metadata": {},
     "output_type": "display_data"
    }
   ],
   "source": [
    "# plotting the Curves\n",
    "plt.plot(k, test_score_2)\n",
    "plt.xlabel('K Neighbors')\n",
    "plt.ylabel('Test Mean Squared Error')\n",
    "plt.title('Elbow Curve for test_score_2')"
   ]
  },
  {
   "cell_type": "code",
   "execution_count": 70,
   "id": "40ac8a63",
   "metadata": {},
   "outputs": [
    {
     "name": "stdout",
     "output_type": "stream",
     "text": [
      "Train MSE     0.1545\n",
      "Test MSE     0.2076\n"
     ]
    }
   ],
   "source": [
    "# Creating instance of KNN\n",
    "reg = KNN(n_neighbors = 8)\n",
    "\n",
    "# Fitting the model\n",
    "reg.fit(train_x, train_y)\n",
    "\n",
    "# Predicting over the Train Set and calculating K\n",
    "train_predict = reg.predict(train_x)\n",
    "k_train = mse(train_predict, train_y)\n",
    "print('Train MSE    ', k_train )\n",
    "\n",
    "# Predicting over the Test Set and calculating K\n",
    "test_predict = reg.predict(test_x)\n",
    "k_test = mse(test_predict, test_y)\n",
    "print('Test MSE    ', k_test )"
   ]
  },
  {
   "cell_type": "markdown",
   "id": "989bd270",
   "metadata": {},
   "source": [
    "# 4. Linear Model"
   ]
  },
  {
   "cell_type": "code",
   "execution_count": 71,
   "id": "daa92370",
   "metadata": {},
   "outputs": [
    {
     "data": {
      "text/html": [
       "<div>\n",
       "<style scoped>\n",
       "    .dataframe tbody tr th:only-of-type {\n",
       "        vertical-align: middle;\n",
       "    }\n",
       "\n",
       "    .dataframe tbody tr th {\n",
       "        vertical-align: top;\n",
       "    }\n",
       "\n",
       "    .dataframe thead th {\n",
       "        text-align: right;\n",
       "    }\n",
       "</style>\n",
       "<table border=\"1\" class=\"dataframe\">\n",
       "  <thead>\n",
       "    <tr style=\"text-align: right;\">\n",
       "      <th></th>\n",
       "      <th>passenger_count</th>\n",
       "      <th>pickup_longitude</th>\n",
       "      <th>pickup_latitude</th>\n",
       "      <th>dropoff_longitude</th>\n",
       "      <th>dropoff_latitude</th>\n",
       "      <th>day_of_week</th>\n",
       "      <th>hour_of_day</th>\n",
       "      <th>log_trip_duration</th>\n",
       "      <th>vendor_id_1</th>\n",
       "      <th>vendor_id_2</th>\n",
       "      <th>store_and_fwd_flag_N</th>\n",
       "      <th>store_and_fwd_flag_Y</th>\n",
       "    </tr>\n",
       "  </thead>\n",
       "  <tbody>\n",
       "    <tr>\n",
       "      <th>0</th>\n",
       "      <td>1</td>\n",
       "      <td>-73.953918</td>\n",
       "      <td>40.778873</td>\n",
       "      <td>-73.963875</td>\n",
       "      <td>40.771164</td>\n",
       "      <td>0</td>\n",
       "      <td>16</td>\n",
       "      <td>5.992188</td>\n",
       "      <td>0</td>\n",
       "      <td>1</td>\n",
       "      <td>1</td>\n",
       "      <td>0</td>\n",
       "    </tr>\n",
       "    <tr>\n",
       "      <th>3</th>\n",
       "      <td>6</td>\n",
       "      <td>-73.961670</td>\n",
       "      <td>40.759720</td>\n",
       "      <td>-73.956779</td>\n",
       "      <td>40.780628</td>\n",
       "      <td>1</td>\n",
       "      <td>9</td>\n",
       "      <td>7.039062</td>\n",
       "      <td>0</td>\n",
       "      <td>1</td>\n",
       "      <td>1</td>\n",
       "      <td>0</td>\n",
       "    </tr>\n",
       "    <tr>\n",
       "      <th>4</th>\n",
       "      <td>1</td>\n",
       "      <td>-74.017120</td>\n",
       "      <td>40.708469</td>\n",
       "      <td>-73.988182</td>\n",
       "      <td>40.740631</td>\n",
       "      <td>2</td>\n",
       "      <td>6</td>\n",
       "      <td>6.742188</td>\n",
       "      <td>1</td>\n",
       "      <td>0</td>\n",
       "      <td>1</td>\n",
       "      <td>0</td>\n",
       "    </tr>\n",
       "    <tr>\n",
       "      <th>5</th>\n",
       "      <td>2</td>\n",
       "      <td>-73.993614</td>\n",
       "      <td>40.751884</td>\n",
       "      <td>-73.995422</td>\n",
       "      <td>40.723862</td>\n",
       "      <td>6</td>\n",
       "      <td>18</td>\n",
       "      <td>7.285156</td>\n",
       "      <td>0</td>\n",
       "      <td>1</td>\n",
       "      <td>1</td>\n",
       "      <td>0</td>\n",
       "    </tr>\n",
       "    <tr>\n",
       "      <th>6</th>\n",
       "      <td>1</td>\n",
       "      <td>-73.965080</td>\n",
       "      <td>40.758915</td>\n",
       "      <td>-73.976807</td>\n",
       "      <td>40.764107</td>\n",
       "      <td>2</td>\n",
       "      <td>20</td>\n",
       "      <td>5.988281</td>\n",
       "      <td>1</td>\n",
       "      <td>0</td>\n",
       "      <td>1</td>\n",
       "      <td>0</td>\n",
       "    </tr>\n",
       "  </tbody>\n",
       "</table>\n",
       "</div>"
      ],
      "text/plain": [
       "   passenger_count  pickup_longitude  pickup_latitude  dropoff_longitude  \\\n",
       "0                1        -73.953918        40.778873         -73.963875   \n",
       "3                6        -73.961670        40.759720         -73.956779   \n",
       "4                1        -74.017120        40.708469         -73.988182   \n",
       "5                2        -73.993614        40.751884         -73.995422   \n",
       "6                1        -73.965080        40.758915         -73.976807   \n",
       "\n",
       "   dropoff_latitude  day_of_week  hour_of_day  log_trip_duration  vendor_id_1  \\\n",
       "0         40.771164            0           16           5.992188            0   \n",
       "3         40.780628            1            9           7.039062            0   \n",
       "4         40.740631            2            6           6.742188            1   \n",
       "5         40.723862            6           18           7.285156            0   \n",
       "6         40.764107            2           20           5.988281            1   \n",
       "\n",
       "   vendor_id_2  store_and_fwd_flag_N  store_and_fwd_flag_Y  \n",
       "0            1                     1                     0  \n",
       "3            1                     1                     0  \n",
       "4            0                     1                     0  \n",
       "5            1                     1                     0  \n",
       "6            0                     1                     0  "
      ]
     },
     "execution_count": 71,
     "metadata": {},
     "output_type": "execute_result"
    }
   ],
   "source": [
    "#we used he same cleaned dataset which we used for knn above\n",
    "data.head()"
   ]
  },
  {
   "cell_type": "markdown",
   "id": "341eea68",
   "metadata": {},
   "source": [
    "Implementing Linear Regression"
   ]
  },
  {
   "cell_type": "code",
   "execution_count": 72,
   "id": "ae087d2f",
   "metadata": {},
   "outputs": [
    {
     "data": {
      "text/plain": [
       "((38172, 11), (38172,))"
      ]
     },
     "execution_count": 72,
     "metadata": {},
     "output_type": "execute_result"
    }
   ],
   "source": [
    "#Segregating depenent and independent variable\n",
    "x = data.drop(['log_trip_duration'], axis = 1)\n",
    "y = data['log_trip_duration']\n",
    "x.shape, y.shape"
   ]
  },
  {
   "cell_type": "code",
   "execution_count": 73,
   "id": "24d89c58",
   "metadata": {},
   "outputs": [],
   "source": [
    "#train test split function\n",
    "from sklearn.model_selection import train_test_split\n",
    "train_x,test_x,train_y,test_y = train_test_split(x,y, random_state = 42)"
   ]
  },
  {
   "cell_type": "code",
   "execution_count": 74,
   "id": "6c956f92",
   "metadata": {},
   "outputs": [],
   "source": [
    "#importing Linear Regression and metric mean square error\n",
    "from sklearn.linear_model import LinearRegression as LR\n",
    "from sklearn.metrics import mean_absolute_error as mae"
   ]
  },
  {
   "cell_type": "code",
   "execution_count": 75,
   "id": "f387e8d9",
   "metadata": {},
   "outputs": [
    {
     "data": {
      "text/plain": [
       "LinearRegression()"
      ]
     },
     "execution_count": 75,
     "metadata": {},
     "output_type": "execute_result"
    }
   ],
   "source": [
    "# Creating instance of Linear Regresssion\n",
    "lr = LR()\n",
    "\n",
    "# Fitting the model\n",
    "lr.fit(train_x, train_y)"
   ]
  },
  {
   "cell_type": "code",
   "execution_count": 76,
   "id": "c80c2d7d",
   "metadata": {},
   "outputs": [
    {
     "name": "stdout",
     "output_type": "stream",
     "text": [
      "Trai Mean Absolute Error 0.5041721613913187\n"
     ]
    }
   ],
   "source": [
    "# Predicting over the Train Set and calculating error\n",
    "train_predict = lr.predict(train_x)\n",
    "k = mae(train_predict, train_y)\n",
    "print('Trai Mean Absolute Error', k )"
   ]
  },
  {
   "cell_type": "code",
   "execution_count": 77,
   "id": "b73e5618",
   "metadata": {},
   "outputs": [
    {
     "name": "stdout",
     "output_type": "stream",
     "text": [
      "Test Mean Absolute Error     0.5077077912924667\n"
     ]
    }
   ],
   "source": [
    "# Predicting over the Test Set and calculating error\n",
    "test_predict = lr.predict(test_x)\n",
    "k = mae(test_predict, test_y)\n",
    "print('Test Mean Absolute Error    ', k )"
   ]
  },
  {
   "cell_type": "code",
   "execution_count": 78,
   "id": "41582659",
   "metadata": {},
   "outputs": [
    {
     "data": {
      "text/plain": [
       "array([ 4.40946989e-03, -1.23013368e+00, -5.76158631e-01,  2.99968487e-01,\n",
       "       -2.73540674e+00, -1.24901229e-02,  5.38833776e-03, -1.21341651e-03,\n",
       "        1.21341651e-03, -6.70403377e-02,  6.70403377e-02])"
      ]
     },
     "execution_count": 78,
     "metadata": {},
     "output_type": "execute_result"
    }
   ],
   "source": [
    "# parameters of linear regression\n",
    "lr.coef_"
   ]
  },
  {
   "cell_type": "code",
   "execution_count": 79,
   "id": "2e5fe3ad",
   "metadata": {},
   "outputs": [
    {
     "data": {
      "text/plain": [
       "Text(0.5, 1.0, 'Coefficient plot')"
      ]
     },
     "execution_count": 79,
     "metadata": {},
     "output_type": "execute_result"
    },
    {
     "data": {
      "image/png": "[encoded data removed]",
      "text/plain": [
       "<Figure size 960x720 with 1 Axes>"
      ]
     },
     "metadata": {},
     "output_type": "display_data"
    }
   ],
   "source": [
    "#Plotting coefficients\n",
    "plt.figure(figsize=(8, 6), dpi=120, facecolor='w', edgecolor='blue')\n",
    "x = range(len(train_x.columns))\n",
    "y = lr.coef_\n",
    "plt.bar( x, y )\n",
    "plt.xlabel(\"Variables\")\n",
    "plt.ylabel('Coefficients')\n",
    "plt.title('Coefficient plot')"
   ]
  },
  {
   "cell_type": "markdown",
   "id": "d3c56e9a",
   "metadata": {},
   "source": [
    "In above plot we can see that model depends depends on few variable too much and few varibale values are close to zero."
   ]
  },
  {
   "cell_type": "markdown",
   "id": "bba7ff40",
   "metadata": {},
   "source": [
    "# Linear regression with normalisation"
   ]
  },
  {
   "cell_type": "markdown",
   "id": "52f15c2a",
   "metadata": {},
   "source": [
    "Till now have simply been predicting the values using the linear regression, But in order to Interpret the model, the normalising of the data is essential."
   ]
  },
  {
   "cell_type": "code",
   "execution_count": 80,
   "id": "e14eb306",
   "metadata": {},
   "outputs": [
    {
     "data": {
      "text/plain": [
       "LinearRegression(normalize=True)"
      ]
     },
     "execution_count": 80,
     "metadata": {},
     "output_type": "execute_result"
    }
   ],
   "source": [
    "# Creating instance of Linear Regresssion\n",
    "lr = LR(normalize = True)\n",
    "\n",
    "# Fitting the model\n",
    "lr.fit(train_x, train_y)"
   ]
  },
  {
   "cell_type": "code",
   "execution_count": 81,
   "id": "f1a918d9",
   "metadata": {},
   "outputs": [
    {
     "name": "stdout",
     "output_type": "stream",
     "text": [
      "Training Mean Absolute Error 0.5041721613913182\n"
     ]
    }
   ],
   "source": [
    "# Predicting over the Train Set and calculating error\n",
    "train_predict = lr.predict(train_x)\n",
    "k_train = mae(train_predict, train_y)\n",
    "print('Training Mean Absolute Error', k_train)"
   ]
  },
  {
   "cell_type": "code",
   "execution_count": 82,
   "id": "e89d475e",
   "metadata": {},
   "outputs": [
    {
     "name": "stdout",
     "output_type": "stream",
     "text": [
      "Test Mean Absolute Error     0.507707791292466\n"
     ]
    }
   ],
   "source": [
    "# Predicting over the Test Set and calculating error\n",
    "test_predict = lr.predict(test_x)\n",
    "k_test = mae(test_predict, test_y)\n",
    "print('Test Mean Absolute Error    ', k_test )"
   ]
  },
  {
   "cell_type": "code",
   "execution_count": 83,
   "id": "f1622f63",
   "metadata": {},
   "outputs": [
    {
     "name": "stdout",
     "output_type": "stream",
     "text": [
      "Test Mean Absolute Error     0.507707791292466\n"
     ]
    }
   ],
   "source": [
    "# Predicting over the Test Set and calculating error\n",
    "test_predict = lr.predict(test_x)\n",
    "k = mae(test_predict, test_y)\n",
    "print('Test Mean Absolute Error    ', k )"
   ]
  },
  {
   "cell_type": "code",
   "execution_count": 84,
   "id": "94f0fad4",
   "metadata": {},
   "outputs": [
    {
     "data": {
      "text/plain": [
       "Text(0.5, 1.0, 'Normalized Coefficient plot')"
      ]
     },
     "execution_count": 84,
     "metadata": {},
     "output_type": "execute_result"
    },
    {
     "data": {
      "image/png": "[encoded data removed]",
      "text/plain": [
       "<Figure size 960x720 with 1 Axes>"
      ]
     },
     "metadata": {},
     "output_type": "display_data"
    }
   ],
   "source": [
    "plt.figure(figsize=(8, 6), dpi=120, facecolor='w', edgecolor='b')\n",
    "x = range(len(train_x.columns))\n",
    "y = lr.coef_\n",
    "plt.bar( x, y )\n",
    "plt.xlabel( \"Variables\")\n",
    "plt.ylabel('Coefficients')\n",
    "plt.title('Normalized Coefficient plot')"
   ]
  },
  {
   "cell_type": "markdown",
   "id": "f87e101d",
   "metadata": {},
   "source": [
    "Now the coefficients we see are normalised and we can easily make final inferences out of it.\n",
    "\n",
    "Here we can see that there are a lot of Coefficients which are near to zero and not Significant. So these can be removed to buildup the model again as per requirement.\n"
   ]
  },
  {
   "cell_type": "markdown",
   "id": "29d68f46",
   "metadata": {},
   "source": [
    "# Ridge regularisation"
   ]
  },
  {
   "cell_type": "code",
   "execution_count": 85,
   "id": "ca7def28",
   "metadata": {},
   "outputs": [],
   "source": [
    "# Importing ridge from sklearn's linear_model module\n",
    "from sklearn.linear_model import Ridge"
   ]
  },
  {
   "cell_type": "code",
   "execution_count": 86,
   "id": "a397d29e",
   "metadata": {},
   "outputs": [],
   "source": [
    "# Setting the different values of alpha to be tested\n",
    "alpha_ridge = [0, 1e-8, 1e-4, 1e-3,1e-2, 1, 5, 10, 20, 25]"
   ]
  },
  {
   "cell_type": "code",
   "execution_count": 87,
   "id": "2edf7736",
   "metadata": {},
   "outputs": [],
   "source": [
    "train_error_ridge = []\n",
    "test_error_ridge = []\n",
    "\n",
    "for i in alpha_ridge:\n",
    "    \n",
    "    R = Ridge(alpha = i, normalize=True)\n",
    "    R.fit(train_x, train_y)\n",
    "    train_y_pred = R.predict(train_x)\n",
    "    test_y_pred = R.predict(test_x)\n",
    "    \n",
    "    mrss_train = sum((train_y_pred-train_y)**2)/train_x.shape[0]\n",
    "    mrss_test = sum((test_y_pred-test_y)**2)/test_x.shape[0]\n",
    "    \n",
    "    train_error_ridge.append(mrss_train)\n",
    "    test_error_ridge.append(mrss_test)"
   ]
  },
  {
   "cell_type": "code",
   "execution_count": 88,
   "id": "39948c24",
   "metadata": {},
   "outputs": [
    {
     "data": {
      "text/plain": [
       "array([ 1.56410227e-04, -1.05061360e-01, -8.87522845e-02, -9.89718860e-02,\n",
       "       -1.14723895e-01, -4.39723972e-04,  2.10827190e-04, -1.12139039e-04,\n",
       "        1.12139039e-04, -4.69885499e-03,  4.69885499e-03])"
      ]
     },
     "execution_count": 88,
     "metadata": {},
     "output_type": "execute_result"
    }
   ],
   "source": [
    "R.coef_"
   ]
  },
  {
   "cell_type": "code",
   "execution_count": 89,
   "id": "06c81abc",
   "metadata": {},
   "outputs": [],
   "source": [
    "# Initializing the dataframe to store error\n",
    "\n",
    "col = ['train_error_ridge','test_error_ridge']\n",
    "ind = ['alpha_%.2g'%alpha_ridge[i] for i in range(0,10)]\n",
    "matrix_ridge = pd.DataFrame(index=ind, columns=col)"
   ]
  },
  {
   "cell_type": "code",
   "execution_count": 90,
   "id": "fc13fc82",
   "metadata": {},
   "outputs": [
    {
     "data": {
      "text/html": [
       "<div>\n",
       "<style scoped>\n",
       "    .dataframe tbody tr th:only-of-type {\n",
       "        vertical-align: middle;\n",
       "    }\n",
       "\n",
       "    .dataframe tbody tr th {\n",
       "        vertical-align: top;\n",
       "    }\n",
       "\n",
       "    .dataframe thead th {\n",
       "        text-align: right;\n",
       "    }\n",
       "</style>\n",
       "<table border=\"1\" class=\"dataframe\">\n",
       "  <thead>\n",
       "    <tr style=\"text-align: right;\">\n",
       "      <th></th>\n",
       "      <th>train_error_ridge</th>\n",
       "      <th>test_error_ridge</th>\n",
       "    </tr>\n",
       "  </thead>\n",
       "  <tbody>\n",
       "    <tr>\n",
       "      <th>alpha_0</th>\n",
       "      <td>0.390693</td>\n",
       "      <td>0.393589</td>\n",
       "    </tr>\n",
       "    <tr>\n",
       "      <th>alpha_1e-08</th>\n",
       "      <td>0.390693</td>\n",
       "      <td>0.393589</td>\n",
       "    </tr>\n",
       "    <tr>\n",
       "      <th>alpha_0.0001</th>\n",
       "      <td>0.390693</td>\n",
       "      <td>0.393589</td>\n",
       "    </tr>\n",
       "    <tr>\n",
       "      <th>alpha_0.001</th>\n",
       "      <td>0.390693</td>\n",
       "      <td>0.393588</td>\n",
       "    </tr>\n",
       "    <tr>\n",
       "      <th>alpha_0.01</th>\n",
       "      <td>0.390694</td>\n",
       "      <td>0.393581</td>\n",
       "    </tr>\n",
       "    <tr>\n",
       "      <th>alpha_1</th>\n",
       "      <td>0.391838</td>\n",
       "      <td>0.394636</td>\n",
       "    </tr>\n",
       "    <tr>\n",
       "      <th>alpha_5</th>\n",
       "      <td>0.394339</td>\n",
       "      <td>0.397194</td>\n",
       "    </tr>\n",
       "    <tr>\n",
       "      <th>alpha_10</th>\n",
       "      <td>0.395403</td>\n",
       "      <td>0.398283</td>\n",
       "    </tr>\n",
       "    <tr>\n",
       "      <th>alpha_20</th>\n",
       "      <td>0.396169</td>\n",
       "      <td>0.399065</td>\n",
       "    </tr>\n",
       "    <tr>\n",
       "      <th>alpha_25</th>\n",
       "      <td>0.396349</td>\n",
       "      <td>0.399250</td>\n",
       "    </tr>\n",
       "  </tbody>\n",
       "</table>\n",
       "</div>"
      ],
      "text/plain": [
       "              train_error_ridge  test_error_ridge\n",
       "alpha_0                0.390693          0.393589\n",
       "alpha_1e-08            0.390693          0.393589\n",
       "alpha_0.0001           0.390693          0.393589\n",
       "alpha_0.001            0.390693          0.393588\n",
       "alpha_0.01             0.390694          0.393581\n",
       "alpha_1                0.391838          0.394636\n",
       "alpha_5                0.394339          0.397194\n",
       "alpha_10               0.395403          0.398283\n",
       "alpha_20               0.396169          0.399065\n",
       "alpha_25               0.396349          0.399250"
      ]
     },
     "execution_count": 90,
     "metadata": {},
     "output_type": "execute_result"
    }
   ],
   "source": [
    "matrix_ridge['train_error_ridge'] = train_error_ridge\n",
    "matrix_ridge['test_error_ridge'] = test_error_ridge\n",
    "matrix_ridge"
   ]
  },
  {
   "cell_type": "code",
   "execution_count": 91,
   "id": "5bbf8f26",
   "metadata": {},
   "outputs": [
    {
     "data": {
      "image/png": "[encoded data removed]",
      "text/plain": [
       "<Figure size 432x288 with 1 Axes>"
      ]
     },
     "metadata": {},
     "output_type": "display_data"
    }
   ],
   "source": [
    "# Plotting the Alpha Values VS Error graph\n",
    "\n",
    "matrix_ridge[['train_error_ridge','test_error_ridge']].plot()\n",
    "plt.xlabel('Alpha Values')\n",
    "plt.ylabel('Error')\n",
    "plt.legend(['Train', 'Test'])\n",
    "plt.show()"
   ]
  },
  {
   "cell_type": "code",
   "execution_count": 92,
   "id": "f41d54ac",
   "metadata": {},
   "outputs": [
    {
     "data": {
      "text/plain": [
       "0.3906934589731223"
      ]
     },
     "execution_count": 92,
     "metadata": {},
     "output_type": "execute_result"
    }
   ],
   "source": [
    "matrix_ridge.min()[0]"
   ]
  },
  {
   "cell_type": "code",
   "execution_count": 93,
   "id": "e19ed8b5",
   "metadata": {},
   "outputs": [
    {
     "data": {
      "image/png": "[encoded data removed]",
      "text/plain": [
       "<Figure size 480x480 with 1 Axes>"
      ]
     },
     "metadata": {},
     "output_type": "display_data"
    }
   ],
   "source": [
    "plt.figure(figsize=(4, 4), dpi=120, facecolor='w', edgecolor='b')\n",
    "x = range(len(train_x.columns))\n",
    "y = R.coef_\n",
    "plt.bar( x, y )\n",
    "plt.xlabel( \"Variables\")\n",
    "plt.ylabel('Coefficients')\n",
    "plt.title('Ridge : Coefficient plot')\n",
    "plt.show()"
   ]
  },
  {
   "cell_type": "markdown",
   "id": "6cadead3",
   "metadata": {},
   "source": [
    "# lasso"
   ]
  },
  {
   "cell_type": "code",
   "execution_count": 94,
   "id": "f1691360",
   "metadata": {},
   "outputs": [],
   "source": [
    "# Importing Lasso model from sklearn's linear_model module\n",
    "from sklearn.linear_model import Lasso"
   ]
  },
  {
   "cell_type": "code",
   "execution_count": 95,
   "id": "b2d6560a",
   "metadata": {},
   "outputs": [],
   "source": [
    "# Definining the alpha values to test\n",
    "alpha_lasso = [0, 1e-10, 1e-8, 1e-5,1e-4, 1e-3,1e-2, 1, 5, 10]"
   ]
  },
  {
   "cell_type": "code",
   "execution_count": 96,
   "id": "cd1fc5c4",
   "metadata": {},
   "outputs": [],
   "source": [
    "train_error_lasso = []\n",
    "test_error_lasso = []\n",
    "\n",
    "for i in alpha_lasso:\n",
    "    \n",
    "    L = Lasso(alpha = i, normalize=True)\n",
    "    L.fit(train_x, train_y)\n",
    "    train_y_pred = L.predict(train_x)\n",
    "    test_y_pred = L.predict(test_x)\n",
    "    \n",
    "    mrss_train = sum((train_y_pred-train_y)**2)/train_x.shape[0]\n",
    "    mrss_test = sum((test_y_pred-test_y)**2)/test_x.shape[0]\n",
    "    \n",
    "    train_error_lasso.append(mrss_train)\n",
    "    test_error_lasso.append(mrss_test)"
   ]
  },
  {
   "cell_type": "code",
   "execution_count": 97,
   "id": "ecdcfbbc",
   "metadata": {},
   "outputs": [],
   "source": [
    "# Initializing the dataframe to store error\n",
    "\n",
    "col = ['train_error_lasso','test_error_lasso']\n",
    "ind = ['alpha_%.2g'%alpha_lasso[i] for i in range(0,10)]\n",
    "matrix_lasso = pd.DataFrame(index=ind, columns=col)"
   ]
  },
  {
   "cell_type": "code",
   "execution_count": 98,
   "id": "1ea4bcaf",
   "metadata": {},
   "outputs": [
    {
     "data": {
      "text/html": [
       "<div>\n",
       "<style scoped>\n",
       "    .dataframe tbody tr th:only-of-type {\n",
       "        vertical-align: middle;\n",
       "    }\n",
       "\n",
       "    .dataframe tbody tr th {\n",
       "        vertical-align: top;\n",
       "    }\n",
       "\n",
       "    .dataframe thead th {\n",
       "        text-align: right;\n",
       "    }\n",
       "</style>\n",
       "<table border=\"1\" class=\"dataframe\">\n",
       "  <thead>\n",
       "    <tr style=\"text-align: right;\">\n",
       "      <th></th>\n",
       "      <th>train_error_lasso</th>\n",
       "      <th>test_error_lasso</th>\n",
       "    </tr>\n",
       "  </thead>\n",
       "  <tbody>\n",
       "    <tr>\n",
       "      <th>alpha_0</th>\n",
       "      <td>0.390693</td>\n",
       "      <td>0.393589</td>\n",
       "    </tr>\n",
       "    <tr>\n",
       "      <th>alpha_1e-10</th>\n",
       "      <td>0.390693</td>\n",
       "      <td>0.393589</td>\n",
       "    </tr>\n",
       "    <tr>\n",
       "      <th>alpha_1e-08</th>\n",
       "      <td>0.390693</td>\n",
       "      <td>0.393589</td>\n",
       "    </tr>\n",
       "    <tr>\n",
       "      <th>alpha_1e-05</th>\n",
       "      <td>0.390722</td>\n",
       "      <td>0.393586</td>\n",
       "    </tr>\n",
       "    <tr>\n",
       "      <th>alpha_0.0001</th>\n",
       "      <td>0.391837</td>\n",
       "      <td>0.394759</td>\n",
       "    </tr>\n",
       "    <tr>\n",
       "      <th>alpha_0.001</th>\n",
       "      <td>0.397190</td>\n",
       "      <td>0.400109</td>\n",
       "    </tr>\n",
       "    <tr>\n",
       "      <th>alpha_0.01</th>\n",
       "      <td>0.397190</td>\n",
       "      <td>0.400109</td>\n",
       "    </tr>\n",
       "    <tr>\n",
       "      <th>alpha_1</th>\n",
       "      <td>0.397190</td>\n",
       "      <td>0.400109</td>\n",
       "    </tr>\n",
       "    <tr>\n",
       "      <th>alpha_5</th>\n",
       "      <td>0.397190</td>\n",
       "      <td>0.400109</td>\n",
       "    </tr>\n",
       "    <tr>\n",
       "      <th>alpha_10</th>\n",
       "      <td>0.397190</td>\n",
       "      <td>0.400109</td>\n",
       "    </tr>\n",
       "  </tbody>\n",
       "</table>\n",
       "</div>"
      ],
      "text/plain": [
       "              train_error_lasso  test_error_lasso\n",
       "alpha_0                0.390693          0.393589\n",
       "alpha_1e-10            0.390693          0.393589\n",
       "alpha_1e-08            0.390693          0.393589\n",
       "alpha_1e-05            0.390722          0.393586\n",
       "alpha_0.0001           0.391837          0.394759\n",
       "alpha_0.001            0.397190          0.400109\n",
       "alpha_0.01             0.397190          0.400109\n",
       "alpha_1                0.397190          0.400109\n",
       "alpha_5                0.397190          0.400109\n",
       "alpha_10               0.397190          0.400109"
      ]
     },
     "execution_count": 98,
     "metadata": {},
     "output_type": "execute_result"
    }
   ],
   "source": [
    "matrix_lasso['train_error_lasso'] = train_error_lasso\n",
    "matrix_lasso['test_error_lasso'] = test_error_lasso\n",
    "matrix_lasso"
   ]
  },
  {
   "cell_type": "code",
   "execution_count": 99,
   "id": "ce75dddd",
   "metadata": {},
   "outputs": [
    {
     "data": {
      "image/png": "[encoded data removed]",
      "text/plain": [
       "<Figure size 432x288 with 1 Axes>"
      ]
     },
     "metadata": {},
     "output_type": "display_data"
    }
   ],
   "source": [
    "# Plotting the Alpha Values VS Error graph\n",
    "\n",
    "matrix_lasso[['train_error_lasso','test_error_lasso']].plot()\n",
    "plt.xlabel('Alpha Values')\n",
    "plt.ylabel('Error')\n",
    "plt.legend(['Train', 'Test'])\n",
    "plt.show()"
   ]
  },
  {
   "cell_type": "code",
   "execution_count": 100,
   "id": "a1c4cc6c",
   "metadata": {},
   "outputs": [
    {
     "data": {
      "text/plain": [
       "train_error_lasso    0.390693\n",
       "test_error_lasso     0.393586\n",
       "dtype: float64"
      ]
     },
     "execution_count": 100,
     "metadata": {},
     "output_type": "execute_result"
    }
   ],
   "source": [
    "matrix_lasso.min()\n"
   ]
  },
  {
   "cell_type": "code",
   "execution_count": 101,
   "id": "3d817679",
   "metadata": {},
   "outputs": [
    {
     "data": {
      "text/plain": [
       "array([ 0., -0., -0., -0., -0., -0.,  0., -0.,  0., -0.,  0.])"
      ]
     },
     "execution_count": 101,
     "metadata": {},
     "output_type": "execute_result"
    }
   ],
   "source": [
    "L.coef_"
   ]
  },
  {
   "cell_type": "code",
   "execution_count": 102,
   "id": "5208f740",
   "metadata": {},
   "outputs": [
    {
     "data": {
      "image/png": "[encoded data removed]",
      "text/plain": [
       "<Figure size 480x480 with 1 Axes>"
      ]
     },
     "metadata": {},
     "output_type": "display_data"
    }
   ],
   "source": [
    "plt.figure(figsize=(4, 4), dpi=120, facecolor='w', edgecolor='b')\n",
    "x = range(len(train_x.columns))\n",
    "y = lr.coef_\n",
    "plt.bar( x, y )\n",
    "plt.xlabel( \"Variables\")\n",
    "plt.ylabel('Coefficients')\n",
    "plt.title('Lasso Coefficient plot')\n",
    "plt.show()"
   ]
  },
  {
   "cell_type": "markdown",
   "id": "28fe6acc",
   "metadata": {},
   "source": [
    "The ridge and lasso regularisation "
   ]
  },
  {
   "cell_type": "markdown",
   "id": "baa1aa81",
   "metadata": {},
   "source": [
    "# 5. Decision Tree"
   ]
  },
  {
   "cell_type": "code",
   "execution_count": 103,
   "id": "ce386c96",
   "metadata": {},
   "outputs": [
    {
     "data": {
      "text/plain": [
       "((38172, 11), (38172,))"
      ]
     },
     "execution_count": 103,
     "metadata": {},
     "output_type": "execute_result"
    }
   ],
   "source": [
    "# Seperating independent and dependent variables\n",
    "\n",
    "# Features\n",
    "x = data.drop(['log_trip_duration'], axis=1)\n",
    "\n",
    "# Target\n",
    "y = data['log_trip_duration']\n",
    "\n",
    "x.shape, y.shape"
   ]
  },
  {
   "cell_type": "code",
   "execution_count": 104,
   "id": "fd9fb611",
   "metadata": {},
   "outputs": [],
   "source": [
    "# Importing the train test split function\n",
    "from sklearn.model_selection import train_test_split\n",
    "train_x,test_x,train_y,test_y = train_test_split(x,y, random_state=42, test_size = 0.25) "
   ]
  },
  {
   "cell_type": "code",
   "execution_count": 105,
   "id": "2bc1d98b",
   "metadata": {},
   "outputs": [],
   "source": [
    "# Importing decision tree regressor\n",
    "from sklearn.tree import DecisionTreeRegressor"
   ]
  },
  {
   "cell_type": "code",
   "execution_count": 106,
   "id": "3b7c9000",
   "metadata": {},
   "outputs": [],
   "source": [
    "# Creating the decision tree function\n",
    "dt_model = DecisionTreeRegressor(random_state=10)"
   ]
  },
  {
   "cell_type": "code",
   "execution_count": 107,
   "id": "ed917874",
   "metadata": {},
   "outputs": [
    {
     "data": {
      "text/plain": [
       "DecisionTreeRegressor(random_state=10)"
      ]
     },
     "execution_count": 107,
     "metadata": {},
     "output_type": "execute_result"
    }
   ],
   "source": [
    "# Fitting the model\n",
    "dt_model.fit(train_x, train_y)"
   ]
  },
  {
   "cell_type": "code",
   "execution_count": 108,
   "id": "b7d6090c",
   "metadata": {},
   "outputs": [
    {
     "data": {
      "text/plain": [
       "1.0"
      ]
     },
     "execution_count": 108,
     "metadata": {},
     "output_type": "execute_result"
    }
   ],
   "source": [
    "# Checking the training score\n",
    "dt_model.score(train_x, train_y)"
   ]
  },
  {
   "cell_type": "code",
   "execution_count": 109,
   "id": "c9ce16aa",
   "metadata": {},
   "outputs": [
    {
     "data": {
      "text/plain": [
       "0.2163896924555183"
      ]
     },
     "execution_count": 109,
     "metadata": {},
     "output_type": "execute_result"
    }
   ],
   "source": [
    "# Checking the test score\n",
    "dt_model.score(test_x, test_y)"
   ]
  },
  {
   "cell_type": "code",
   "execution_count": 110,
   "id": "d548d187",
   "metadata": {},
   "outputs": [],
   "source": [
    "# Predictions on test set\n",
    "y_pred = dt_model.predict(test_x)"
   ]
  },
  {
   "cell_type": "code",
   "execution_count": 111,
   "id": "1947559f",
   "metadata": {},
   "outputs": [],
   "source": [
    "train_accuracy = []\n",
    "test_accuracy = []\n",
    "for depth in range(1,30):\n",
    "    dt_model = DecisionTreeRegressor(max_depth=depth, random_state=10)\n",
    "    dt_model.fit(train_x, train_y)\n",
    "    train_accuracy.append(dt_model.score(train_x, train_y))\n",
    "    test_accuracy.append(dt_model.score(test_x, test_y))"
   ]
  },
  {
   "cell_type": "code",
   "execution_count": 112,
   "id": "322014f0",
   "metadata": {},
   "outputs": [
    {
     "data": {
      "text/html": [
       "<div>\n",
       "<style scoped>\n",
       "    .dataframe tbody tr th:only-of-type {\n",
       "        vertical-align: middle;\n",
       "    }\n",
       "\n",
       "    .dataframe tbody tr th {\n",
       "        vertical-align: top;\n",
       "    }\n",
       "\n",
       "    .dataframe thead th {\n",
       "        text-align: right;\n",
       "    }\n",
       "</style>\n",
       "<table border=\"1\" class=\"dataframe\">\n",
       "  <thead>\n",
       "    <tr style=\"text-align: right;\">\n",
       "      <th></th>\n",
       "      <th>max_depth</th>\n",
       "      <th>train_acc</th>\n",
       "      <th>test_acc</th>\n",
       "    </tr>\n",
       "  </thead>\n",
       "  <tbody>\n",
       "    <tr>\n",
       "      <th>0</th>\n",
       "      <td>1</td>\n",
       "      <td>0.021137</td>\n",
       "      <td>0.022694</td>\n",
       "    </tr>\n",
       "    <tr>\n",
       "      <th>1</th>\n",
       "      <td>2</td>\n",
       "      <td>0.039416</td>\n",
       "      <td>0.042702</td>\n",
       "    </tr>\n",
       "    <tr>\n",
       "      <th>2</th>\n",
       "      <td>3</td>\n",
       "      <td>0.110589</td>\n",
       "      <td>0.104407</td>\n",
       "    </tr>\n",
       "    <tr>\n",
       "      <th>3</th>\n",
       "      <td>4</td>\n",
       "      <td>0.139781</td>\n",
       "      <td>0.127026</td>\n",
       "    </tr>\n",
       "    <tr>\n",
       "      <th>4</th>\n",
       "      <td>5</td>\n",
       "      <td>0.157472</td>\n",
       "      <td>0.139209</td>\n",
       "    </tr>\n",
       "    <tr>\n",
       "      <th>5</th>\n",
       "      <td>6</td>\n",
       "      <td>0.243240</td>\n",
       "      <td>0.225359</td>\n",
       "    </tr>\n",
       "    <tr>\n",
       "      <th>6</th>\n",
       "      <td>7</td>\n",
       "      <td>0.281064</td>\n",
       "      <td>0.254503</td>\n",
       "    </tr>\n",
       "    <tr>\n",
       "      <th>7</th>\n",
       "      <td>8</td>\n",
       "      <td>0.322277</td>\n",
       "      <td>0.281239</td>\n",
       "    </tr>\n",
       "    <tr>\n",
       "      <th>8</th>\n",
       "      <td>9</td>\n",
       "      <td>0.389060</td>\n",
       "      <td>0.318376</td>\n",
       "    </tr>\n",
       "    <tr>\n",
       "      <th>9</th>\n",
       "      <td>10</td>\n",
       "      <td>0.436579</td>\n",
       "      <td>0.345877</td>\n",
       "    </tr>\n",
       "    <tr>\n",
       "      <th>10</th>\n",
       "      <td>11</td>\n",
       "      <td>0.489122</td>\n",
       "      <td>0.371706</td>\n",
       "    </tr>\n",
       "    <tr>\n",
       "      <th>11</th>\n",
       "      <td>12</td>\n",
       "      <td>0.539834</td>\n",
       "      <td>0.382906</td>\n",
       "    </tr>\n",
       "    <tr>\n",
       "      <th>12</th>\n",
       "      <td>13</td>\n",
       "      <td>0.585381</td>\n",
       "      <td>0.387132</td>\n",
       "    </tr>\n",
       "    <tr>\n",
       "      <th>13</th>\n",
       "      <td>14</td>\n",
       "      <td>0.638427</td>\n",
       "      <td>0.395020</td>\n",
       "    </tr>\n",
       "    <tr>\n",
       "      <th>14</th>\n",
       "      <td>15</td>\n",
       "      <td>0.687842</td>\n",
       "      <td>0.385054</td>\n",
       "    </tr>\n",
       "    <tr>\n",
       "      <th>15</th>\n",
       "      <td>16</td>\n",
       "      <td>0.732262</td>\n",
       "      <td>0.373747</td>\n",
       "    </tr>\n",
       "    <tr>\n",
       "      <th>16</th>\n",
       "      <td>17</td>\n",
       "      <td>0.776183</td>\n",
       "      <td>0.361689</td>\n",
       "    </tr>\n",
       "    <tr>\n",
       "      <th>17</th>\n",
       "      <td>18</td>\n",
       "      <td>0.816203</td>\n",
       "      <td>0.347595</td>\n",
       "    </tr>\n",
       "    <tr>\n",
       "      <th>18</th>\n",
       "      <td>19</td>\n",
       "      <td>0.851337</td>\n",
       "      <td>0.326280</td>\n",
       "    </tr>\n",
       "    <tr>\n",
       "      <th>19</th>\n",
       "      <td>20</td>\n",
       "      <td>0.883956</td>\n",
       "      <td>0.311213</td>\n",
       "    </tr>\n",
       "    <tr>\n",
       "      <th>20</th>\n",
       "      <td>21</td>\n",
       "      <td>0.910807</td>\n",
       "      <td>0.282299</td>\n",
       "    </tr>\n",
       "    <tr>\n",
       "      <th>21</th>\n",
       "      <td>22</td>\n",
       "      <td>0.933619</td>\n",
       "      <td>0.266752</td>\n",
       "    </tr>\n",
       "    <tr>\n",
       "      <th>22</th>\n",
       "      <td>23</td>\n",
       "      <td>0.951114</td>\n",
       "      <td>0.250706</td>\n",
       "    </tr>\n",
       "    <tr>\n",
       "      <th>23</th>\n",
       "      <td>24</td>\n",
       "      <td>0.965303</td>\n",
       "      <td>0.239795</td>\n",
       "    </tr>\n",
       "    <tr>\n",
       "      <th>24</th>\n",
       "      <td>25</td>\n",
       "      <td>0.976076</td>\n",
       "      <td>0.234259</td>\n",
       "    </tr>\n",
       "    <tr>\n",
       "      <th>25</th>\n",
       "      <td>26</td>\n",
       "      <td>0.984126</td>\n",
       "      <td>0.235150</td>\n",
       "    </tr>\n",
       "    <tr>\n",
       "      <th>26</th>\n",
       "      <td>27</td>\n",
       "      <td>0.989119</td>\n",
       "      <td>0.226366</td>\n",
       "    </tr>\n",
       "    <tr>\n",
       "      <th>27</th>\n",
       "      <td>28</td>\n",
       "      <td>0.992724</td>\n",
       "      <td>0.222285</td>\n",
       "    </tr>\n",
       "    <tr>\n",
       "      <th>28</th>\n",
       "      <td>29</td>\n",
       "      <td>0.995472</td>\n",
       "      <td>0.229731</td>\n",
       "    </tr>\n",
       "  </tbody>\n",
       "</table>\n",
       "</div>"
      ],
      "text/plain": [
       "    max_depth  train_acc  test_acc\n",
       "0           1   0.021137  0.022694\n",
       "1           2   0.039416  0.042702\n",
       "2           3   0.110589  0.104407\n",
       "3           4   0.139781  0.127026\n",
       "4           5   0.157472  0.139209\n",
       "5           6   0.243240  0.225359\n",
       "6           7   0.281064  0.254503\n",
       "7           8   0.322277  0.281239\n",
       "8           9   0.389060  0.318376\n",
       "9          10   0.436579  0.345877\n",
       "10         11   0.489122  0.371706\n",
       "11         12   0.539834  0.382906\n",
       "12         13   0.585381  0.387132\n",
       "13         14   0.638427  0.395020\n",
       "14         15   0.687842  0.385054\n",
       "15         16   0.732262  0.373747\n",
       "16         17   0.776183  0.361689\n",
       "17         18   0.816203  0.347595\n",
       "18         19   0.851337  0.326280\n",
       "19         20   0.883956  0.311213\n",
       "20         21   0.910807  0.282299\n",
       "21         22   0.933619  0.266752\n",
       "22         23   0.951114  0.250706\n",
       "23         24   0.965303  0.239795\n",
       "24         25   0.976076  0.234259\n",
       "25         26   0.984126  0.235150\n",
       "26         27   0.989119  0.226366\n",
       "27         28   0.992724  0.222285\n",
       "28         29   0.995472  0.229731"
      ]
     },
     "execution_count": 112,
     "metadata": {},
     "output_type": "execute_result"
    }
   ],
   "source": [
    "frame = pd.DataFrame({'max_depth':range(1,30), 'train_acc':train_accuracy, 'test_acc':test_accuracy})\n",
    "frame"
   ]
  },
  {
   "cell_type": "code",
   "execution_count": 113,
   "id": "090dccbb",
   "metadata": {},
   "outputs": [
    {
     "data": {
      "image/png": "[encoded data removed]",
      "text/plain": [
       "<Figure size 864x432 with 1 Axes>"
      ]
     },
     "metadata": {},
     "output_type": "display_data"
    }
   ],
   "source": [
    "plt.figure(figsize=(12,6))\n",
    "plt.plot(frame['max_depth'], frame['train_acc'], marker='o')\n",
    "plt.plot(frame['max_depth'], frame['test_acc'], marker='o')\n",
    "plt.xlabel('Depth of tree')\n",
    "plt.ylabel('performance')\n",
    "plt.legend(['Train', 'Test'])\n",
    "plt.show()"
   ]
  },
  {
   "cell_type": "code",
   "execution_count": 114,
   "id": "375b9fda",
   "metadata": {},
   "outputs": [],
   "source": [
    "dt_model = DecisionTreeRegressor(max_depth=18, max_leaf_nodes=80, random_state =10)"
   ]
  },
  {
   "cell_type": "code",
   "execution_count": 115,
   "id": "38f987f4",
   "metadata": {},
   "outputs": [
    {
     "data": {
      "text/plain": [
       "DecisionTreeRegressor(max_depth=18, max_leaf_nodes=80, random_state=10)"
      ]
     },
     "execution_count": 115,
     "metadata": {},
     "output_type": "execute_result"
    }
   ],
   "source": [
    "# Fitting the model\n",
    "dt_model.fit(train_x, train_y)"
   ]
  },
  {
   "cell_type": "code",
   "execution_count": 116,
   "id": "3e4e0f6f",
   "metadata": {},
   "outputs": [
    {
     "data": {
      "text/plain": [
       "0.37788496556483675"
      ]
     },
     "execution_count": 116,
     "metadata": {},
     "output_type": "execute_result"
    }
   ],
   "source": [
    "# Training score\n",
    "dt_model.score(train_x, train_y)"
   ]
  },
  {
   "cell_type": "code",
   "execution_count": 117,
   "id": "5bc31181",
   "metadata": {},
   "outputs": [
    {
     "data": {
      "text/plain": [
       "0.35484200710114755"
      ]
     },
     "execution_count": 117,
     "metadata": {},
     "output_type": "execute_result"
    }
   ],
   "source": [
    "# Test score\n",
    "dt_model.score(test_x, test_y)"
   ]
  },
  {
   "cell_type": "code",
   "execution_count": 118,
   "id": "45f63dc6",
   "metadata": {},
   "outputs": [],
   "source": [
    "from sklearn import tree"
   ]
  },
  {
   "cell_type": "code",
   "execution_count": 119,
   "id": "ac86c222",
   "metadata": {},
   "outputs": [],
   "source": [
    "decision_tree = tree.export_graphviz(dt_model,out_file='tree.dot',feature_names=train_x.columns,max_depth=2,filled=True)"
   ]
  },
  {
   "cell_type": "code",
   "execution_count": 120,
   "id": "8f8bb0ba",
   "metadata": {},
   "outputs": [],
   "source": [
    "!dot -Tpng tree.dot -o tree.png"
   ]
  },
  {
   "cell_type": "code",
   "execution_count": 121,
   "id": "964b5f19",
   "metadata": {},
   "outputs": [
    {
     "data": {
      "image/png": "[encoded data removed]",
      "text/plain": [
       "<Figure size 1080x2880 with 1 Axes>"
      ]
     },
     "metadata": {},
     "output_type": "display_data"
    }
   ],
   "source": [
    "image = plt.imread('tree.png')\n",
    "plt.figure(figsize=(15, 40))\n",
    "plt.imshow(image)\n",
    "plt.show()"
   ]
  },
  {
   "cell_type": "markdown",
   "id": "964afd89",
   "metadata": {},
   "source": [
    "# 6. Plot Graphs"
   ]
  },
  {
   "cell_type": "code",
   "execution_count": 122,
   "id": "d572303f",
   "metadata": {},
   "outputs": [],
   "source": [
    "# Collecting scores from the models and assigning the value to the varibales\n",
    "# multiply all values by 100 to get the better visualisation\n",
    "# KNN\n",
    "a = (1 - k_train)*100\n",
    "b = (1 - k_test)*100\n",
    "\n",
    "# Linear Regression\n",
    "c = (1 - k_train)*100\n",
    "d = (1 - k_test)*100\n",
    "\n",
    "# Ridge Regression\n",
    "e = (1 - matrix_ridge.min()[0])*100\n",
    "f = (1 - matrix_ridge.min()[1])*100\n",
    "\n",
    "# Lasso Regression\n",
    "g = (1 - matrix_lasso.min()[0])*100\n",
    "h = (1 - matrix_lasso.min()[1])*100\n",
    "\n",
    "# Decision Tree\n",
    "i = (dt_model.score(train_x, train_y))*100\n",
    "j = (dt_model.score(test_x, test_y))*100"
   ]
  },
  {
   "cell_type": "markdown",
   "id": "12665f73",
   "metadata": {},
   "source": [
    "# Train error Bar plot"
   ]
  },
  {
   "cell_type": "code",
   "execution_count": 123,
   "id": "5ac75d18",
   "metadata": {},
   "outputs": [],
   "source": [
    "train_error_name = ['KNN',\n",
    "                   'Linear Regression',\n",
    "                   'Ridge',\n",
    "                   'Lasso',\n",
    "                   'Decision Tree']\n",
    "score_train = [a, c, e, g, i]"
   ]
  },
  {
   "cell_type": "code",
   "execution_count": 124,
   "id": "328dae92",
   "metadata": {},
   "outputs": [
    {
     "data": {
      "image/png": "[encoded data removed]",
      "text/plain": [
       "<Figure size 720x576 with 1 Axes>"
      ]
     },
     "metadata": {},
     "output_type": "display_data"
    }
   ],
   "source": [
    "plt.figure(figsize = (10, 8))\n",
    "plt.ylim(0, 100)\n",
    "plt.bar(train_error_name, score_train, color=['blue', 'green', 'orange', 'pink', 'grey'])\n",
    "plt.xlabel('Models')\n",
    "plt.ylabel('Score')\n",
    "plt.title('Train Score of the Models');"
   ]
  },
  {
   "cell_type": "markdown",
   "id": "de7e67cc",
   "metadata": {},
   "source": [
    "# Test error Bar plot"
   ]
  },
  {
   "cell_type": "code",
   "execution_count": 125,
   "id": "184b06e3",
   "metadata": {},
   "outputs": [],
   "source": [
    "test_error_name = ['KNN',\n",
    "                   'Linear Regression',\n",
    "                   'Ridge',\n",
    "                   'Lasso',\n",
    "                   'Decision Tree']\n",
    "score_test = [b, d, f, h, j]"
   ]
  },
  {
   "cell_type": "code",
   "execution_count": 126,
   "id": "6921c856",
   "metadata": {},
   "outputs": [
    {
     "data": {
      "image/png": "[encoded data removed]",
      "text/plain": [
       "<Figure size 720x576 with 1 Axes>"
      ]
     },
     "metadata": {},
     "output_type": "display_data"
    }
   ],
   "source": [
    "plt.figure(figsize = (10, 8))\n",
    "plt.ylim(0, 100)\n",
    "plt.bar(test_error_name, score_test, color=['blue', 'green', 'orange', 'pink', 'grey'])\n",
    "plt.xlabel('Models')\n",
    "plt.ylabel('Score')\n",
    "plt.title('Test Score of the Models');"
   ]
  },
  {
   "cell_type": "code",
   "execution_count": null,
   "id": "59ec4669",
   "metadata": {},
   "outputs": [],
   "source": []
  }
 ],
 "metadata": {
  "kernelspec": {
   "display_name": "Python 3 (ipykernel)",
   "language": "python",
   "name": "python3"
  },
  "language_info": {
   "codemirror_mode": {
    "name": "ipython",
    "version": 3
   },
   "file_extension": ".py",
   "mimetype": "text/x-python",
   "name": "python",
   "nbconvert_exporter": "python",
   "pygments_lexer": "ipython3",
   "version": "3.9.7"
  }
 },
 "nbformat": 4,
 "nbformat_minor": 5
}
