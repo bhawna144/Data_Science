{
 "cells": [
  {
   "cell_type": "markdown",
   "id": "60fafce5",
   "metadata": {},
   "source": [
    "# Number of Unique Speakers"
   ]
  },
  {
   "cell_type": "code",
   "execution_count": 1,
   "id": "2279b1fb",
   "metadata": {},
   "outputs": [
    {
     "data": {
      "text/plain": [
       "17"
      ]
     },
     "execution_count": 1,
     "metadata": {},
     "output_type": "execute_result"
    }
   ],
   "source": [
    "#create a list which will have all the speakers\n",
    "# open a text file and and iterate through it using a split function to get the sepakers\n",
    "sp = []\n",
    "with open(r\"C:\\Users\\bhawna bhatti\\Desktop\\conv.txt\") as file:\n",
    "    for line in file:\n",
    "        words = line.split(':')\n",
    "        if line [0] == '\\n':\n",
    "            pass\n",
    "        else:\n",
    "            sp.append(words[0])\n",
    "            \n",
    "#convert the list to set to get the number of unique speakers\n",
    "un_sp= set(sp)\n",
    "len(un_sp)"
   ]
  },
  {
   "cell_type": "markdown",
   "id": "244120cb",
   "metadata": {},
   "source": [
    "# The unique words spoken by each Speaker"
   ]
  },
  {
   "cell_type": "code",
   "execution_count": 2,
   "id": "02feadb3",
   "metadata": {},
   "outputs": [],
   "source": [
    "#create a list which will have the dialogues spoken by each speaker\n",
    "#read a text file and iterate through it to get the dialogues\n",
    "dialogue = []\n",
    "with open(r\"C:\\Users\\bhawna bhatti\\Desktop\\conv.txt\") as file:\n",
    "    for line in file:\n",
    "        words = line.split(':')\n",
    "        if line [0] == '\\n':\n",
    "            pass\n",
    "        else:\n",
    "            dialogue.append(words)"
   ]
  },
  {
   "cell_type": "code",
   "execution_count": 9,
   "id": "221a2f40",
   "metadata": {},
   "outputs": [],
   "source": [
    "# First iterate through set of unique speakers and after that the dialogue list to get the dialogue corespnd to each speaker\n",
    "# Replace the punctuation to avoid getting duplicate words in the output\n",
    "# to get the unique words use set\n",
    "for i in un_sp:\n",
    "    sp_words = \"\"\n",
    "    for j in dialogue:\n",
    "        if j[0] == i:\n",
    "            sp_words = sp_words + str(j[1])\n",
    "            \n",
    "    sp_words = sp_words.replace('!','').replace(',','').replace('?','').replace('.','')\n",
    "    un_sp_words = sp_words.split()\n",
    "    un_set = set(un_sp_words)\n",
    "    \n",
    "# create a new file for each speaker and corresponding unique words\n",
    " \n",
    "    speaker_file = open(i+'.txt','w')\n",
    "    for k in un_set:\n",
    "        speaker_file.write(k+'\\n')\n",
    "    speaker_file.close()"
   ]
  }
 ],
 "metadata": {
  "kernelspec": {
   "display_name": "Python 3 (ipykernel)",
   "language": "python",
   "name": "python3"
  },
  "language_info": {
   "codemirror_mode": {
    "name": "ipython",
    "version": 3
   },
   "file_extension": ".py",
   "mimetype": "text/x-python",
   "name": "python",
   "nbconvert_exporter": "python",
   "pygments_lexer": "ipython3",
   "version": "3.9.7"
  }
 },
 "nbformat": 4,
 "nbformat_minor": 5
}
